{
 "cells": [
  {
   "cell_type": "code",
   "execution_count": 1,
   "metadata": {},
   "outputs": [],
   "source": [
    "import pandas as pd\n",
    "\n",
    "from bs4 import BeautifulSoup\n",
    "import requests\n",
    "import seaborn as sns\n",
    "import plotly.graph_objects as go\n",
    "import re\n",
    "import unicodedata as ucd"
   ]
  },
  {
   "cell_type": "code",
   "execution_count": 2,
   "metadata": {},
   "outputs": [],
   "source": [
    "df = pd.read_csv(\"prizes.csv\")"
   ]
  },
  {
   "cell_type": "code",
   "execution_count": 3,
   "metadata": {},
   "outputs": [
    {
     "data": {
      "text/html": [
       "<div>\n",
       "<style scoped>\n",
       "    .dataframe tbody tr th:only-of-type {\n",
       "        vertical-align: middle;\n",
       "    }\n",
       "\n",
       "    .dataframe tbody tr th {\n",
       "        vertical-align: top;\n",
       "    }\n",
       "\n",
       "    .dataframe thead th {\n",
       "        text-align: right;\n",
       "    }\n",
       "</style>\n",
       "<table border=\"1\" class=\"dataframe\">\n",
       "  <thead>\n",
       "    <tr style=\"text-align: right;\">\n",
       "      <th></th>\n",
       "      <th>year</th>\n",
       "      <th>category</th>\n",
       "      <th>overallMotivation</th>\n",
       "      <th>id</th>\n",
       "      <th>firstname</th>\n",
       "      <th>surname</th>\n",
       "      <th>motivation</th>\n",
       "      <th>share</th>\n",
       "    </tr>\n",
       "  </thead>\n",
       "  <tbody>\n",
       "    <tr>\n",
       "      <th>0</th>\n",
       "      <td>2017</td>\n",
       "      <td>physics</td>\n",
       "      <td>NaN</td>\n",
       "      <td>941</td>\n",
       "      <td>Rainer</td>\n",
       "      <td>Weiss</td>\n",
       "      <td>\"for decisive contributions to the LIGO detect...</td>\n",
       "      <td>2</td>\n",
       "    </tr>\n",
       "    <tr>\n",
       "      <th>1</th>\n",
       "      <td>2017</td>\n",
       "      <td>physics</td>\n",
       "      <td>NaN</td>\n",
       "      <td>942</td>\n",
       "      <td>Barry C.</td>\n",
       "      <td>Barish</td>\n",
       "      <td>\"for decisive contributions to the LIGO detect...</td>\n",
       "      <td>4</td>\n",
       "    </tr>\n",
       "    <tr>\n",
       "      <th>2</th>\n",
       "      <td>2017</td>\n",
       "      <td>physics</td>\n",
       "      <td>NaN</td>\n",
       "      <td>943</td>\n",
       "      <td>Kip S.</td>\n",
       "      <td>Thorne</td>\n",
       "      <td>\"for decisive contributions to the LIGO detect...</td>\n",
       "      <td>4</td>\n",
       "    </tr>\n",
       "    <tr>\n",
       "      <th>3</th>\n",
       "      <td>2017</td>\n",
       "      <td>chemistry</td>\n",
       "      <td>NaN</td>\n",
       "      <td>944</td>\n",
       "      <td>Jacques</td>\n",
       "      <td>Dubochet</td>\n",
       "      <td>\"for developing cryo-electron microscopy for t...</td>\n",
       "      <td>3</td>\n",
       "    </tr>\n",
       "    <tr>\n",
       "      <th>4</th>\n",
       "      <td>2017</td>\n",
       "      <td>chemistry</td>\n",
       "      <td>NaN</td>\n",
       "      <td>945</td>\n",
       "      <td>Joachim</td>\n",
       "      <td>Frank</td>\n",
       "      <td>\"for developing cryo-electron microscopy for t...</td>\n",
       "      <td>3</td>\n",
       "    </tr>\n",
       "  </tbody>\n",
       "</table>\n",
       "</div>"
      ],
      "text/plain": [
       "   year   category overallMotivation   id firstname   surname  \\\n",
       "0  2017    physics               NaN  941    Rainer     Weiss   \n",
       "1  2017    physics               NaN  942  Barry C.    Barish   \n",
       "2  2017    physics               NaN  943    Kip S.    Thorne   \n",
       "3  2017  chemistry               NaN  944   Jacques  Dubochet   \n",
       "4  2017  chemistry               NaN  945   Joachim     Frank   \n",
       "\n",
       "                                          motivation  share  \n",
       "0  \"for decisive contributions to the LIGO detect...      2  \n",
       "1  \"for decisive contributions to the LIGO detect...      4  \n",
       "2  \"for decisive contributions to the LIGO detect...      4  \n",
       "3  \"for developing cryo-electron microscopy for t...      3  \n",
       "4  \"for developing cryo-electron microscopy for t...      3  "
      ]
     },
     "execution_count": 3,
     "metadata": {},
     "output_type": "execute_result"
    }
   ],
   "source": [
    "df.head()"
   ]
  },
  {
   "cell_type": "code",
   "execution_count": 4,
   "metadata": {},
   "outputs": [
    {
     "name": "stdout",
     "output_type": "stream",
     "text": [
      "<class 'pandas.core.frame.DataFrame'>\n",
      "RangeIndex: 923 entries, 0 to 922\n",
      "Data columns (total 8 columns):\n",
      "year                 923 non-null int64\n",
      "category             923 non-null object\n",
      "overallMotivation    14 non-null object\n",
      "id                   923 non-null int64\n",
      "firstname            923 non-null object\n",
      "surname              892 non-null object\n",
      "motivation           835 non-null object\n",
      "share                923 non-null int64\n",
      "dtypes: int64(3), object(5)\n",
      "memory usage: 57.8+ KB\n"
     ]
    }
   ],
   "source": [
    "df.info()"
   ]
  },
  {
   "cell_type": "markdown",
   "metadata": {},
   "source": [
    "website_url = requests.get('https://en.wikipedia.org/wiki/List_of_Nobel_laureates_in_Literature').text\n",
    "soup = BeautifulSoup(website_url,'lxml')\n",
    "my_table = soup.find('table',{'class':'wikitable sortable'})\n",
    "\n",
    "#my_table = soup.fine('table',{'class':'wikitable sortable'})\n",
    "links = my_table.findAll('a')"
   ]
  },
  {
   "cell_type": "markdown",
   "metadata": {},
   "source": [
    "print(links[4])"
   ]
  },
  {
   "cell_type": "code",
   "execution_count": 5,
   "metadata": {},
   "outputs": [],
   "source": [
    "literature = pd.read_csv(\"literature.csv\")"
   ]
  },
  {
   "cell_type": "code",
   "execution_count": 6,
   "metadata": {},
   "outputs": [
    {
     "data": {
      "text/html": [
       "<div>\n",
       "<style scoped>\n",
       "    .dataframe tbody tr th:only-of-type {\n",
       "        vertical-align: middle;\n",
       "    }\n",
       "\n",
       "    .dataframe tbody tr th {\n",
       "        vertical-align: top;\n",
       "    }\n",
       "\n",
       "    .dataframe thead th {\n",
       "        text-align: right;\n",
       "    }\n",
       "</style>\n",
       "<table border=\"1\" class=\"dataframe\">\n",
       "  <thead>\n",
       "    <tr style=\"text-align: right;\">\n",
       "      <th></th>\n",
       "      <th>Unnamed: 0</th>\n",
       "      <th>0</th>\n",
       "      <th>1</th>\n",
       "      <th>2</th>\n",
       "      <th>3</th>\n",
       "      <th>4</th>\n",
       "      <th>5</th>\n",
       "    </tr>\n",
       "  </thead>\n",
       "  <tbody>\n",
       "    <tr>\n",
       "      <th>0</th>\n",
       "      <td>0</td>\n",
       "      <td>1901</td>\n",
       "      <td>Sully Prudhomme</td>\n",
       "      <td>France</td>\n",
       "      <td>French</td>\n",
       "      <td>\"in special recognition of his poetic composit...</td>\n",
       "      <td>poetry, essay</td>\n",
       "    </tr>\n",
       "    <tr>\n",
       "      <th>1</th>\n",
       "      <td>1</td>\n",
       "      <td>1902</td>\n",
       "      <td>Theodor Mommsen</td>\n",
       "      <td>Germany</td>\n",
       "      <td>German</td>\n",
       "      <td>\"the greatest living master of the art of hist...</td>\n",
       "      <td>history, law</td>\n",
       "    </tr>\n",
       "    <tr>\n",
       "      <th>2</th>\n",
       "      <td>2</td>\n",
       "      <td>1903</td>\n",
       "      <td>Bjørnstjerne Bjørnson</td>\n",
       "      <td>Norway</td>\n",
       "      <td>Norwegian</td>\n",
       "      <td>\"as a tribute to his noble, magnificent and ve...</td>\n",
       "      <td>poetry, novel, drama</td>\n",
       "    </tr>\n",
       "    <tr>\n",
       "      <th>3</th>\n",
       "      <td>3</td>\n",
       "      <td>1904</td>\n",
       "      <td>Frédéric Mistral</td>\n",
       "      <td>France</td>\n",
       "      <td>Provençal</td>\n",
       "      <td>\"in recognition of the fresh originality and t...</td>\n",
       "      <td>poetry, philology</td>\n",
       "    </tr>\n",
       "    <tr>\n",
       "      <th>4</th>\n",
       "      <td>4</td>\n",
       "      <td>1904</td>\n",
       "      <td>José Echegaray</td>\n",
       "      <td>Spain</td>\n",
       "      <td>Spanish</td>\n",
       "      <td>\"in recognition of the numerous and brilliant ...</td>\n",
       "      <td>drama</td>\n",
       "    </tr>\n",
       "  </tbody>\n",
       "</table>\n",
       "</div>"
      ],
      "text/plain": [
       "   Unnamed: 0     0                      1         2          3  \\\n",
       "0           0  1901        Sully Prudhomme    France     French   \n",
       "1           1  1902        Theodor Mommsen   Germany     German   \n",
       "2           2  1903  Bjørnstjerne Bjørnson    Norway  Norwegian   \n",
       "3           3  1904       Frédéric Mistral    France  Provençal   \n",
       "4           4  1904         José Echegaray     Spain    Spanish   \n",
       "\n",
       "                                                   4                     5  \n",
       "0  \"in special recognition of his poetic composit...         poetry, essay  \n",
       "1  \"the greatest living master of the art of hist...          history, law  \n",
       "2  \"as a tribute to his noble, magnificent and ve...  poetry, novel, drama  \n",
       "3  \"in recognition of the fresh originality and t...     poetry, philology  \n",
       "4  \"in recognition of the numerous and brilliant ...                 drama  "
      ]
     },
     "execution_count": 6,
     "metadata": {},
     "output_type": "execute_result"
    }
   ],
   "source": [
    "literature.head()"
   ]
  },
  {
   "cell_type": "code",
   "execution_count": 7,
   "metadata": {},
   "outputs": [],
   "source": [
    "literature.columns = [\"Unnamed: 0\",\"year\",\"name\",\"country\",\"language\",\"citation\",\"genre\"]"
   ]
  },
  {
   "cell_type": "code",
   "execution_count": 8,
   "metadata": {},
   "outputs": [
    {
     "data": {
      "text/html": [
       "<div>\n",
       "<style scoped>\n",
       "    .dataframe tbody tr th:only-of-type {\n",
       "        vertical-align: middle;\n",
       "    }\n",
       "\n",
       "    .dataframe tbody tr th {\n",
       "        vertical-align: top;\n",
       "    }\n",
       "\n",
       "    .dataframe thead th {\n",
       "        text-align: right;\n",
       "    }\n",
       "</style>\n",
       "<table border=\"1\" class=\"dataframe\">\n",
       "  <thead>\n",
       "    <tr style=\"text-align: right;\">\n",
       "      <th></th>\n",
       "      <th>Unnamed: 0</th>\n",
       "      <th>year</th>\n",
       "      <th>name</th>\n",
       "      <th>country</th>\n",
       "      <th>language</th>\n",
       "      <th>citation</th>\n",
       "      <th>genre</th>\n",
       "    </tr>\n",
       "  </thead>\n",
       "  <tbody>\n",
       "    <tr>\n",
       "      <th>0</th>\n",
       "      <td>0</td>\n",
       "      <td>1901</td>\n",
       "      <td>Sully Prudhomme</td>\n",
       "      <td>France</td>\n",
       "      <td>French</td>\n",
       "      <td>\"in special recognition of his poetic composit...</td>\n",
       "      <td>poetry, essay</td>\n",
       "    </tr>\n",
       "    <tr>\n",
       "      <th>1</th>\n",
       "      <td>1</td>\n",
       "      <td>1902</td>\n",
       "      <td>Theodor Mommsen</td>\n",
       "      <td>Germany</td>\n",
       "      <td>German</td>\n",
       "      <td>\"the greatest living master of the art of hist...</td>\n",
       "      <td>history, law</td>\n",
       "    </tr>\n",
       "    <tr>\n",
       "      <th>2</th>\n",
       "      <td>2</td>\n",
       "      <td>1903</td>\n",
       "      <td>Bjørnstjerne Bjørnson</td>\n",
       "      <td>Norway</td>\n",
       "      <td>Norwegian</td>\n",
       "      <td>\"as a tribute to his noble, magnificent and ve...</td>\n",
       "      <td>poetry, novel, drama</td>\n",
       "    </tr>\n",
       "    <tr>\n",
       "      <th>3</th>\n",
       "      <td>3</td>\n",
       "      <td>1904</td>\n",
       "      <td>Frédéric Mistral</td>\n",
       "      <td>France</td>\n",
       "      <td>Provençal</td>\n",
       "      <td>\"in recognition of the fresh originality and t...</td>\n",
       "      <td>poetry, philology</td>\n",
       "    </tr>\n",
       "    <tr>\n",
       "      <th>4</th>\n",
       "      <td>4</td>\n",
       "      <td>1904</td>\n",
       "      <td>José Echegaray</td>\n",
       "      <td>Spain</td>\n",
       "      <td>Spanish</td>\n",
       "      <td>\"in recognition of the numerous and brilliant ...</td>\n",
       "      <td>drama</td>\n",
       "    </tr>\n",
       "  </tbody>\n",
       "</table>\n",
       "</div>"
      ],
      "text/plain": [
       "   Unnamed: 0  year                   name   country   language  \\\n",
       "0           0  1901        Sully Prudhomme    France     French   \n",
       "1           1  1902        Theodor Mommsen   Germany     German   \n",
       "2           2  1903  Bjørnstjerne Bjørnson    Norway  Norwegian   \n",
       "3           3  1904       Frédéric Mistral    France  Provençal   \n",
       "4           4  1904         José Echegaray     Spain    Spanish   \n",
       "\n",
       "                                            citation                 genre  \n",
       "0  \"in special recognition of his poetic composit...         poetry, essay  \n",
       "1  \"the greatest living master of the art of hist...          history, law  \n",
       "2  \"as a tribute to his noble, magnificent and ve...  poetry, novel, drama  \n",
       "3  \"in recognition of the fresh originality and t...     poetry, philology  \n",
       "4  \"in recognition of the numerous and brilliant ...                 drama  "
      ]
     },
     "execution_count": 8,
     "metadata": {},
     "output_type": "execute_result"
    }
   ],
   "source": [
    "\n",
    "literature.head()"
   ]
  },
  {
   "cell_type": "code",
   "execution_count": 9,
   "metadata": {},
   "outputs": [],
   "source": [
    "physics = pd.read_csv(\"physics.csv\")"
   ]
  },
  {
   "cell_type": "code",
   "execution_count": 10,
   "metadata": {},
   "outputs": [
    {
     "data": {
      "text/html": [
       "<div>\n",
       "<style scoped>\n",
       "    .dataframe tbody tr th:only-of-type {\n",
       "        vertical-align: middle;\n",
       "    }\n",
       "\n",
       "    .dataframe tbody tr th {\n",
       "        vertical-align: top;\n",
       "    }\n",
       "\n",
       "    .dataframe thead th {\n",
       "        text-align: right;\n",
       "    }\n",
       "</style>\n",
       "<table border=\"1\" class=\"dataframe\">\n",
       "  <thead>\n",
       "    <tr style=\"text-align: right;\">\n",
       "      <th></th>\n",
       "      <th>Unnamed: 0</th>\n",
       "      <th>0</th>\n",
       "      <th>1</th>\n",
       "      <th>2</th>\n",
       "      <th>3</th>\n",
       "    </tr>\n",
       "  </thead>\n",
       "  <tbody>\n",
       "    <tr>\n",
       "      <th>0</th>\n",
       "      <td>0</td>\n",
       "      <td>1901</td>\n",
       "      <td>Wilhelm Conrad Röntgen</td>\n",
       "      <td>Germany</td>\n",
       "      <td>\"in recognition of the extraordinary services ...</td>\n",
       "    </tr>\n",
       "    <tr>\n",
       "      <th>1</th>\n",
       "      <td>1</td>\n",
       "      <td>1902</td>\n",
       "      <td>Hendrik Lorentz</td>\n",
       "      <td>Netherlands</td>\n",
       "      <td>\"in recognition of the extraordinary service t...</td>\n",
       "    </tr>\n",
       "    <tr>\n",
       "      <th>2</th>\n",
       "      <td>2</td>\n",
       "      <td>1902</td>\n",
       "      <td>Pieter Zeeman</td>\n",
       "      <td>Netherlands</td>\n",
       "      <td>NaN</td>\n",
       "    </tr>\n",
       "    <tr>\n",
       "      <th>3</th>\n",
       "      <td>3</td>\n",
       "      <td>1903</td>\n",
       "      <td>Antoine Henri Becquerel</td>\n",
       "      <td>France</td>\n",
       "      <td>\"for his discovery of spontaneous radioactivity\"</td>\n",
       "    </tr>\n",
       "    <tr>\n",
       "      <th>4</th>\n",
       "      <td>4</td>\n",
       "      <td>1903</td>\n",
       "      <td>Pierre Curie</td>\n",
       "      <td>France</td>\n",
       "      <td>\"for their joint researches on the radiation p...</td>\n",
       "    </tr>\n",
       "    <tr>\n",
       "      <th>5</th>\n",
       "      <td>5</td>\n",
       "      <td>NaN</td>\n",
       "      <td>Maria Skłodowska-Curie</td>\n",
       "      <td>Poland</td>\n",
       "      <td>NaN</td>\n",
       "    </tr>\n",
       "  </tbody>\n",
       "</table>\n",
       "</div>"
      ],
      "text/plain": [
       "   Unnamed: 0     0                        1             2  \\\n",
       "0           0  1901   Wilhelm Conrad Röntgen       Germany   \n",
       "1           1  1902          Hendrik Lorentz   Netherlands   \n",
       "2           2  1902            Pieter Zeeman   Netherlands   \n",
       "3           3  1903  Antoine Henri Becquerel        France   \n",
       "4           4  1903             Pierre Curie        France   \n",
       "5           5   NaN   Maria Skłodowska-Curie        Poland   \n",
       "\n",
       "                                                   3  \n",
       "0  \"in recognition of the extraordinary services ...  \n",
       "1  \"in recognition of the extraordinary service t...  \n",
       "2                                                NaN  \n",
       "3   \"for his discovery of spontaneous radioactivity\"  \n",
       "4  \"for their joint researches on the radiation p...  \n",
       "5                                                NaN  "
      ]
     },
     "execution_count": 10,
     "metadata": {},
     "output_type": "execute_result"
    }
   ],
   "source": [
    "physics.head(6)"
   ]
  },
  {
   "cell_type": "code",
   "execution_count": 11,
   "metadata": {},
   "outputs": [],
   "source": [
    "physics.columns = [\"Unamed: 0\",\"year\",\"name\",\"country\",\"citation\"]"
   ]
  },
  {
   "cell_type": "code",
   "execution_count": 12,
   "metadata": {},
   "outputs": [
    {
     "data": {
      "text/html": [
       "<div>\n",
       "<style scoped>\n",
       "    .dataframe tbody tr th:only-of-type {\n",
       "        vertical-align: middle;\n",
       "    }\n",
       "\n",
       "    .dataframe tbody tr th {\n",
       "        vertical-align: top;\n",
       "    }\n",
       "\n",
       "    .dataframe thead th {\n",
       "        text-align: right;\n",
       "    }\n",
       "</style>\n",
       "<table border=\"1\" class=\"dataframe\">\n",
       "  <thead>\n",
       "    <tr style=\"text-align: right;\">\n",
       "      <th></th>\n",
       "      <th>Unamed: 0</th>\n",
       "      <th>year</th>\n",
       "      <th>name</th>\n",
       "      <th>country</th>\n",
       "      <th>citation</th>\n",
       "    </tr>\n",
       "  </thead>\n",
       "  <tbody>\n",
       "    <tr>\n",
       "      <th>0</th>\n",
       "      <td>0</td>\n",
       "      <td>1901</td>\n",
       "      <td>Wilhelm Conrad Röntgen</td>\n",
       "      <td>Germany</td>\n",
       "      <td>\"in recognition of the extraordinary services ...</td>\n",
       "    </tr>\n",
       "    <tr>\n",
       "      <th>1</th>\n",
       "      <td>1</td>\n",
       "      <td>1902</td>\n",
       "      <td>Hendrik Lorentz</td>\n",
       "      <td>Netherlands</td>\n",
       "      <td>\"in recognition of the extraordinary service t...</td>\n",
       "    </tr>\n",
       "    <tr>\n",
       "      <th>2</th>\n",
       "      <td>2</td>\n",
       "      <td>1902</td>\n",
       "      <td>Pieter Zeeman</td>\n",
       "      <td>Netherlands</td>\n",
       "      <td>NaN</td>\n",
       "    </tr>\n",
       "    <tr>\n",
       "      <th>3</th>\n",
       "      <td>3</td>\n",
       "      <td>1903</td>\n",
       "      <td>Antoine Henri Becquerel</td>\n",
       "      <td>France</td>\n",
       "      <td>\"for his discovery of spontaneous radioactivity\"</td>\n",
       "    </tr>\n",
       "    <tr>\n",
       "      <th>4</th>\n",
       "      <td>4</td>\n",
       "      <td>1903</td>\n",
       "      <td>Pierre Curie</td>\n",
       "      <td>France</td>\n",
       "      <td>\"for their joint researches on the radiation p...</td>\n",
       "    </tr>\n",
       "  </tbody>\n",
       "</table>\n",
       "</div>"
      ],
      "text/plain": [
       "   Unamed: 0  year                     name       country  \\\n",
       "0          0  1901   Wilhelm Conrad Röntgen       Germany   \n",
       "1          1  1902          Hendrik Lorentz   Netherlands   \n",
       "2          2  1902            Pieter Zeeman   Netherlands   \n",
       "3          3  1903  Antoine Henri Becquerel        France   \n",
       "4          4  1903             Pierre Curie        France   \n",
       "\n",
       "                                            citation  \n",
       "0  \"in recognition of the extraordinary services ...  \n",
       "1  \"in recognition of the extraordinary service t...  \n",
       "2                                                NaN  \n",
       "3   \"for his discovery of spontaneous radioactivity\"  \n",
       "4  \"for their joint researches on the radiation p...  "
      ]
     },
     "execution_count": 12,
     "metadata": {},
     "output_type": "execute_result"
    }
   ],
   "source": [
    "physics.head()"
   ]
  },
  {
   "cell_type": "code",
   "execution_count": 13,
   "metadata": {},
   "outputs": [],
   "source": [
    "peace = pd.read_csv(\"peace.csv\")"
   ]
  },
  {
   "cell_type": "code",
   "execution_count": 14,
   "metadata": {},
   "outputs": [
    {
     "data": {
      "text/html": [
       "<div>\n",
       "<style scoped>\n",
       "    .dataframe tbody tr th:only-of-type {\n",
       "        vertical-align: middle;\n",
       "    }\n",
       "\n",
       "    .dataframe tbody tr th {\n",
       "        vertical-align: top;\n",
       "    }\n",
       "\n",
       "    .dataframe thead th {\n",
       "        text-align: right;\n",
       "    }\n",
       "</style>\n",
       "<table border=\"1\" class=\"dataframe\">\n",
       "  <thead>\n",
       "    <tr style=\"text-align: right;\">\n",
       "      <th></th>\n",
       "      <th>Year</th>\n",
       "      <th>Laureate</th>\n",
       "      <th>Laureate.1</th>\n",
       "      <th>Country</th>\n",
       "      <th>Rationale</th>\n",
       "    </tr>\n",
       "  </thead>\n",
       "  <tbody>\n",
       "    <tr>\n",
       "      <th>0</th>\n",
       "      <td>1901</td>\n",
       "      <td>NaN</td>\n",
       "      <td>Henry Dunant</td>\n",
       "      <td>Switzerland</td>\n",
       "      <td>For his role in founding the International Com...</td>\n",
       "    </tr>\n",
       "    <tr>\n",
       "      <th>1</th>\n",
       "      <td>1901</td>\n",
       "      <td>NaN</td>\n",
       "      <td>Frédéric Passy</td>\n",
       "      <td>France</td>\n",
       "      <td>\"[For] being one of the main founders of the I...</td>\n",
       "    </tr>\n",
       "    <tr>\n",
       "      <th>2</th>\n",
       "      <td>1902</td>\n",
       "      <td>NaN</td>\n",
       "      <td>Élie Ducommun</td>\n",
       "      <td>Switzerland</td>\n",
       "      <td>\"[For his role as] the first honorary secretar...</td>\n",
       "    </tr>\n",
       "    <tr>\n",
       "      <th>3</th>\n",
       "      <td>1902</td>\n",
       "      <td>NaN</td>\n",
       "      <td>Charles Albert Gobat</td>\n",
       "      <td>Switzerland</td>\n",
       "      <td>\"[For his role as the] first Secretary General...</td>\n",
       "    </tr>\n",
       "    <tr>\n",
       "      <th>4</th>\n",
       "      <td>1903</td>\n",
       "      <td>NaN</td>\n",
       "      <td>William Randal Cremer</td>\n",
       "      <td>United Kingdom</td>\n",
       "      <td>\"[For his role as] the 'first father' of the I...</td>\n",
       "    </tr>\n",
       "  </tbody>\n",
       "</table>\n",
       "</div>"
      ],
      "text/plain": [
       "   Year Laureate             Laureate.1         Country  \\\n",
       "0  1901      NaN           Henry Dunant     Switzerland   \n",
       "1  1901      NaN         Frédéric Passy          France   \n",
       "2  1902      NaN          Élie Ducommun     Switzerland   \n",
       "3  1902      NaN   Charles Albert Gobat     Switzerland   \n",
       "4  1903      NaN  William Randal Cremer  United Kingdom   \n",
       "\n",
       "                                           Rationale  \n",
       "0  For his role in founding the International Com...  \n",
       "1  \"[For] being one of the main founders of the I...  \n",
       "2  \"[For his role as] the first honorary secretar...  \n",
       "3  \"[For his role as the] first Secretary General...  \n",
       "4  \"[For his role as] the 'first father' of the I...  "
      ]
     },
     "execution_count": 14,
     "metadata": {},
     "output_type": "execute_result"
    }
   ],
   "source": [
    "peace.head()"
   ]
  },
  {
   "cell_type": "code",
   "execution_count": 15,
   "metadata": {},
   "outputs": [],
   "source": [
    "econ = pd.read_csv(\"economics.csv\")\n",
    "med = pd.read_csv(\"medicine.csv\")\n",
    "chem = pd.read_csv(\"chemistry.csv\")"
   ]
  },
  {
   "cell_type": "code",
   "execution_count": 16,
   "metadata": {},
   "outputs": [
    {
     "data": {
      "text/html": [
       "<div>\n",
       "<style scoped>\n",
       "    .dataframe tbody tr th:only-of-type {\n",
       "        vertical-align: middle;\n",
       "    }\n",
       "\n",
       "    .dataframe tbody tr th {\n",
       "        vertical-align: top;\n",
       "    }\n",
       "\n",
       "    .dataframe thead th {\n",
       "        text-align: right;\n",
       "    }\n",
       "</style>\n",
       "<table border=\"1\" class=\"dataframe\">\n",
       "  <thead>\n",
       "    <tr style=\"text-align: right;\">\n",
       "      <th></th>\n",
       "      <th>Year</th>\n",
       "      <th>Unnamed: 1</th>\n",
       "      <th>Laureate</th>\n",
       "      <th>Country</th>\n",
       "      <th>Rationale</th>\n",
       "      <th>Ph.D. alma mater</th>\n",
       "      <th>Institution (most significant tenure/at time of receipt)</th>\n",
       "    </tr>\n",
       "  </thead>\n",
       "  <tbody>\n",
       "    <tr>\n",
       "      <th>0</th>\n",
       "      <td>1969</td>\n",
       "      <td>NaN</td>\n",
       "      <td>Ragnar Frisch</td>\n",
       "      <td>Norway</td>\n",
       "      <td>\"for having developed and applied dynamic mode...</td>\n",
       "      <td>University of Oslo</td>\n",
       "      <td>University of Oslo</td>\n",
       "    </tr>\n",
       "    <tr>\n",
       "      <th>1</th>\n",
       "      <td>1969</td>\n",
       "      <td>NaN</td>\n",
       "      <td>Jan Tinbergen</td>\n",
       "      <td>Netherlands</td>\n",
       "      <td>\"for having developed and applied dynamic mode...</td>\n",
       "      <td>Leiden University</td>\n",
       "      <td>Erasmus University</td>\n",
       "    </tr>\n",
       "    <tr>\n",
       "      <th>2</th>\n",
       "      <td>1970</td>\n",
       "      <td>NaN</td>\n",
       "      <td>Paul Samuelson</td>\n",
       "      <td>United States</td>\n",
       "      <td>\"for the scientific work through which he has ...</td>\n",
       "      <td>Harvard University</td>\n",
       "      <td>Massachusetts Institute of Technology</td>\n",
       "    </tr>\n",
       "    <tr>\n",
       "      <th>3</th>\n",
       "      <td>1971</td>\n",
       "      <td>NaN</td>\n",
       "      <td>Simon Kuznets</td>\n",
       "      <td>United States</td>\n",
       "      <td>\"for his empirically founded interpretation of...</td>\n",
       "      <td>Columbia University</td>\n",
       "      <td>Harvard University</td>\n",
       "    </tr>\n",
       "    <tr>\n",
       "      <th>4</th>\n",
       "      <td>1972</td>\n",
       "      <td>NaN</td>\n",
       "      <td>John Hicks</td>\n",
       "      <td>United Kingdom</td>\n",
       "      <td>\"for their pioneering contributions to general...</td>\n",
       "      <td>University of Oxford</td>\n",
       "      <td>University of Oxford</td>\n",
       "    </tr>\n",
       "  </tbody>\n",
       "</table>\n",
       "</div>"
      ],
      "text/plain": [
       "   Year  Unnamed: 1        Laureate         Country  \\\n",
       "0  1969         NaN   Ragnar Frisch          Norway   \n",
       "1  1969         NaN   Jan Tinbergen     Netherlands   \n",
       "2  1970         NaN  Paul Samuelson   United States   \n",
       "3  1971         NaN   Simon Kuznets   United States   \n",
       "4  1972         NaN      John Hicks  United Kingdom   \n",
       "\n",
       "                                           Rationale      Ph.D. alma mater  \\\n",
       "0  \"for having developed and applied dynamic mode...    University of Oslo   \n",
       "1  \"for having developed and applied dynamic mode...     Leiden University   \n",
       "2  \"for the scientific work through which he has ...    Harvard University   \n",
       "3  \"for his empirically founded interpretation of...   Columbia University   \n",
       "4  \"for their pioneering contributions to general...  University of Oxford   \n",
       "\n",
       "  Institution (most significant tenure/at time of receipt)  \n",
       "0                                 University of Oslo        \n",
       "1                                 Erasmus University        \n",
       "2              Massachusetts Institute of Technology        \n",
       "3                                 Harvard University        \n",
       "4                               University of Oxford        "
      ]
     },
     "execution_count": 16,
     "metadata": {},
     "output_type": "execute_result"
    }
   ],
   "source": [
    "econ.head()"
   ]
  },
  {
   "cell_type": "code",
   "execution_count": 17,
   "metadata": {},
   "outputs": [
    {
     "data": {
      "text/html": [
       "<div>\n",
       "<style scoped>\n",
       "    .dataframe tbody tr th:only-of-type {\n",
       "        vertical-align: middle;\n",
       "    }\n",
       "\n",
       "    .dataframe tbody tr th {\n",
       "        vertical-align: top;\n",
       "    }\n",
       "\n",
       "    .dataframe thead th {\n",
       "        text-align: right;\n",
       "    }\n",
       "</style>\n",
       "<table border=\"1\" class=\"dataframe\">\n",
       "  <thead>\n",
       "    <tr style=\"text-align: right;\">\n",
       "      <th></th>\n",
       "      <th>Year</th>\n",
       "      <th>Image</th>\n",
       "      <th>Laureate[A]</th>\n",
       "      <th>Country[B]</th>\n",
       "      <th>Rationale[C]</th>\n",
       "      <th>Ref</th>\n",
       "    </tr>\n",
       "  </thead>\n",
       "  <tbody>\n",
       "    <tr>\n",
       "      <th>0</th>\n",
       "      <td>1901</td>\n",
       "      <td>NaN</td>\n",
       "      <td>Emil Adolf von Behring</td>\n",
       "      <td>Germany</td>\n",
       "      <td>\"for his work on serum therapy, especially its...</td>\n",
       "      <td>[13]</td>\n",
       "    </tr>\n",
       "    <tr>\n",
       "      <th>1</th>\n",
       "      <td>1902</td>\n",
       "      <td>NaN</td>\n",
       "      <td>Sir Ronald Ross</td>\n",
       "      <td>United Kingdom India</td>\n",
       "      <td>\"for his work on malaria, by which he has show...</td>\n",
       "      <td>[14]</td>\n",
       "    </tr>\n",
       "    <tr>\n",
       "      <th>2</th>\n",
       "      <td>1903</td>\n",
       "      <td>NaN</td>\n",
       "      <td>Niels Ryberg Finsen</td>\n",
       "      <td>Denmark( Faroe Islands)</td>\n",
       "      <td>\"[for] his contribution to the treatment of di...</td>\n",
       "      <td>[15]</td>\n",
       "    </tr>\n",
       "    <tr>\n",
       "      <th>3</th>\n",
       "      <td>1904</td>\n",
       "      <td>NaN</td>\n",
       "      <td>Ivan Petrovich Pavlov</td>\n",
       "      <td>Russia</td>\n",
       "      <td>\"in recognition of his work on the physiology ...</td>\n",
       "      <td>[16]</td>\n",
       "    </tr>\n",
       "    <tr>\n",
       "      <th>4</th>\n",
       "      <td>1905</td>\n",
       "      <td>NaN</td>\n",
       "      <td>Robert Koch</td>\n",
       "      <td>Germany</td>\n",
       "      <td>\"for his investigations and discoveries in rel...</td>\n",
       "      <td>[17]</td>\n",
       "    </tr>\n",
       "  </tbody>\n",
       "</table>\n",
       "</div>"
      ],
      "text/plain": [
       "   Year Image             Laureate[A]               Country[B]  \\\n",
       "0  1901   NaN  Emil Adolf von Behring                  Germany   \n",
       "1  1902   NaN         Sir Ronald Ross     United Kingdom India   \n",
       "2  1903   NaN     Niels Ryberg Finsen  Denmark( Faroe Islands)   \n",
       "3  1904   NaN   Ivan Petrovich Pavlov                   Russia   \n",
       "4  1905   NaN             Robert Koch                  Germany   \n",
       "\n",
       "                                        Rationale[C]   Ref  \n",
       "0  \"for his work on serum therapy, especially its...  [13]  \n",
       "1  \"for his work on malaria, by which he has show...  [14]  \n",
       "2  \"[for] his contribution to the treatment of di...  [15]  \n",
       "3  \"in recognition of his work on the physiology ...  [16]  \n",
       "4  \"for his investigations and discoveries in rel...  [17]  "
      ]
     },
     "execution_count": 17,
     "metadata": {},
     "output_type": "execute_result"
    }
   ],
   "source": [
    "med.head()"
   ]
  },
  {
   "cell_type": "code",
   "execution_count": 18,
   "metadata": {},
   "outputs": [
    {
     "data": {
      "text/html": [
       "<div>\n",
       "<style scoped>\n",
       "    .dataframe tbody tr th:only-of-type {\n",
       "        vertical-align: middle;\n",
       "    }\n",
       "\n",
       "    .dataframe tbody tr th {\n",
       "        vertical-align: top;\n",
       "    }\n",
       "\n",
       "    .dataframe thead th {\n",
       "        text-align: right;\n",
       "    }\n",
       "</style>\n",
       "<table border=\"1\" class=\"dataframe\">\n",
       "  <thead>\n",
       "    <tr style=\"text-align: right;\">\n",
       "      <th></th>\n",
       "      <th>Year</th>\n",
       "      <th>Image</th>\n",
       "      <th>Laureate[A]</th>\n",
       "      <th>Country[B]</th>\n",
       "      <th>Rationale[C]</th>\n",
       "      <th>Ref</th>\n",
       "    </tr>\n",
       "  </thead>\n",
       "  <tbody>\n",
       "    <tr>\n",
       "      <th>0</th>\n",
       "      <td>1901</td>\n",
       "      <td>NaN</td>\n",
       "      <td>Jacobus Henricus van 't Hoff</td>\n",
       "      <td>Netherlands</td>\n",
       "      <td>\"[for his] discovery of the laws of chemical d...</td>\n",
       "      <td>[18]</td>\n",
       "    </tr>\n",
       "    <tr>\n",
       "      <th>1</th>\n",
       "      <td>1902</td>\n",
       "      <td>NaN</td>\n",
       "      <td>Hermann Emil Fischer</td>\n",
       "      <td>Germany</td>\n",
       "      <td>\"[for] his work on sugar and purine syntheses\"</td>\n",
       "      <td>[19]</td>\n",
       "    </tr>\n",
       "    <tr>\n",
       "      <th>2</th>\n",
       "      <td>1903</td>\n",
       "      <td>NaN</td>\n",
       "      <td>Svante August Arrhenius</td>\n",
       "      <td>Sweden</td>\n",
       "      <td>\"[for] his electrolytic theory of dissociation\"</td>\n",
       "      <td>[20]</td>\n",
       "    </tr>\n",
       "    <tr>\n",
       "      <th>3</th>\n",
       "      <td>1904</td>\n",
       "      <td>NaN</td>\n",
       "      <td>Sir William Ramsay</td>\n",
       "      <td>United Kingdom</td>\n",
       "      <td>\"[for his] discovery of the inert gaseous elem...</td>\n",
       "      <td>[21]</td>\n",
       "    </tr>\n",
       "    <tr>\n",
       "      <th>4</th>\n",
       "      <td>1905</td>\n",
       "      <td>NaN</td>\n",
       "      <td>Johann Friedrich Wilhelm Adolf von Baeyer</td>\n",
       "      <td>Germany</td>\n",
       "      <td>\"[for] the advancement of organic chemistry an...</td>\n",
       "      <td>[22]</td>\n",
       "    </tr>\n",
       "  </tbody>\n",
       "</table>\n",
       "</div>"
      ],
      "text/plain": [
       "   Year Image                                Laureate[A]      Country[B]  \\\n",
       "0  1901   NaN               Jacobus Henricus van 't Hoff     Netherlands   \n",
       "1  1902   NaN                       Hermann Emil Fischer         Germany   \n",
       "2  1903   NaN                    Svante August Arrhenius          Sweden   \n",
       "3  1904   NaN                         Sir William Ramsay  United Kingdom   \n",
       "4  1905   NaN  Johann Friedrich Wilhelm Adolf von Baeyer         Germany   \n",
       "\n",
       "                                        Rationale[C]   Ref  \n",
       "0  \"[for his] discovery of the laws of chemical d...  [18]  \n",
       "1     \"[for] his work on sugar and purine syntheses\"  [19]  \n",
       "2    \"[for] his electrolytic theory of dissociation\"  [20]  \n",
       "3  \"[for his] discovery of the inert gaseous elem...  [21]  \n",
       "4  \"[for] the advancement of organic chemistry an...  [22]  "
      ]
     },
     "execution_count": 18,
     "metadata": {},
     "output_type": "execute_result"
    }
   ],
   "source": [
    "chem.head()"
   ]
  },
  {
   "cell_type": "code",
   "execution_count": 19,
   "metadata": {},
   "outputs": [],
   "source": [
    "chem[\"category\"] = \"Chemistry\"\n",
    "med[\"category\"] = \"Physiology\"\n",
    "econ[\"category\"] = \"Economics\"\n",
    "peace[\"category\"] = \"Peace\"\n",
    "physics[\"category\"] = \"Category\""
   ]
  },
  {
   "cell_type": "markdown",
   "metadata": {},
   "source": [
    "## Physics"
   ]
  },
  {
   "cell_type": "code",
   "execution_count": 20,
   "metadata": {},
   "outputs": [],
   "source": [
    "countries = []\n",
    "for country in physics[\"country\"]:\n",
    "    #print(type(country))\n",
    "    if isinstance(country,str):\n",
    "        country = re.sub(\"[\\(\\[].*?[\\)\\]]\", \"\", country)\n",
    "        country = ucd.normalize('NFKD',country).replace(\" \",'')\n",
    "    countries.append(country)\n",
    "physics[\"country\"] = countries"
   ]
  },
  {
   "cell_type": "code",
   "execution_count": 21,
   "metadata": {},
   "outputs": [],
   "source": [
    "physicsByCountry = physics.groupby(\"country\").count().sort_values(by=\"Unamed: 0\",ascending=False)\n",
    "physicsByCountry[\"category\"] = \"Physics\""
   ]
  },
  {
   "cell_type": "code",
   "execution_count": 22,
   "metadata": {},
   "outputs": [
    {
     "data": {
      "text/html": [
       "<div>\n",
       "<style scoped>\n",
       "    .dataframe tbody tr th:only-of-type {\n",
       "        vertical-align: middle;\n",
       "    }\n",
       "\n",
       "    .dataframe tbody tr th {\n",
       "        vertical-align: top;\n",
       "    }\n",
       "\n",
       "    .dataframe thead th {\n",
       "        text-align: right;\n",
       "    }\n",
       "</style>\n",
       "<table border=\"1\" class=\"dataframe\">\n",
       "  <thead>\n",
       "    <tr style=\"text-align: right;\">\n",
       "      <th></th>\n",
       "      <th>Unamed: 0</th>\n",
       "      <th>year</th>\n",
       "      <th>name</th>\n",
       "      <th>citation</th>\n",
       "      <th>category</th>\n",
       "    </tr>\n",
       "    <tr>\n",
       "      <th>country</th>\n",
       "      <th></th>\n",
       "      <th></th>\n",
       "      <th></th>\n",
       "      <th></th>\n",
       "      <th></th>\n",
       "    </tr>\n",
       "  </thead>\n",
       "  <tbody>\n",
       "    <tr>\n",
       "      <th>UnitedStates</th>\n",
       "      <td>72</td>\n",
       "      <td>58</td>\n",
       "      <td>72</td>\n",
       "      <td>41</td>\n",
       "      <td>Physics</td>\n",
       "    </tr>\n",
       "    <tr>\n",
       "      <th>UnitedKingdom</th>\n",
       "      <td>20</td>\n",
       "      <td>19</td>\n",
       "      <td>20</td>\n",
       "      <td>14</td>\n",
       "      <td>Physics</td>\n",
       "    </tr>\n",
       "    <tr>\n",
       "      <th>Germany</th>\n",
       "      <td>14</td>\n",
       "      <td>12</td>\n",
       "      <td>14</td>\n",
       "      <td>7</td>\n",
       "      <td>Physics</td>\n",
       "    </tr>\n",
       "    <tr>\n",
       "      <th>France</th>\n",
       "      <td>11</td>\n",
       "      <td>11</td>\n",
       "      <td>11</td>\n",
       "      <td>10</td>\n",
       "      <td>Physics</td>\n",
       "    </tr>\n",
       "    <tr>\n",
       "      <th>Japan</th>\n",
       "      <td>9</td>\n",
       "      <td>8</td>\n",
       "      <td>9</td>\n",
       "      <td>5</td>\n",
       "      <td>Physics</td>\n",
       "    </tr>\n",
       "  </tbody>\n",
       "</table>\n",
       "</div>"
      ],
      "text/plain": [
       "               Unamed: 0  year  name  citation category\n",
       "country                                                \n",
       "UnitedStates          72    58    72        41  Physics\n",
       "UnitedKingdom         20    19    20        14  Physics\n",
       "Germany               14    12    14         7  Physics\n",
       "France                11    11    11        10  Physics\n",
       "Japan                  9     8     9         5  Physics"
      ]
     },
     "execution_count": 22,
     "metadata": {},
     "output_type": "execute_result"
    }
   ],
   "source": [
    "physicsByCountry.head()"
   ]
  },
  {
   "cell_type": "code",
   "execution_count": 23,
   "metadata": {},
   "outputs": [],
   "source": [
    "physicsByCountry.reset_index(inplace=True)"
   ]
  },
  {
   "cell_type": "code",
   "execution_count": 24,
   "metadata": {},
   "outputs": [],
   "source": [
    "physicsByCountry.drop(\"Unamed: 0\",axis=1,inplace=True)"
   ]
  },
  {
   "cell_type": "code",
   "execution_count": 25,
   "metadata": {},
   "outputs": [],
   "source": [
    "physicsByCountry.columns = [\"country\",\"year\",\"name\",\"citation\",\"category\"]"
   ]
  },
  {
   "cell_type": "code",
   "execution_count": 26,
   "metadata": {},
   "outputs": [],
   "source": [
    "physicsByCountryNums = physicsByCountry[[\"country\",\"year\",\"category\"]]"
   ]
  },
  {
   "cell_type": "markdown",
   "metadata": {},
   "source": [
    "## Literature"
   ]
  },
  {
   "cell_type": "code",
   "execution_count": 27,
   "metadata": {},
   "outputs": [],
   "source": [
    "countries = []\n",
    "for country in literature[\"country\"]:\n",
    "    #print(type(country))\n",
    "    if isinstance(country,str):\n",
    "        country = re.sub(\"[\\(\\[].*?[\\)\\]]\", \"\", country)\n",
    "        country = ucd.normalize('NFKD',country).replace(\" \",'')\n",
    "    countries.append(country)\n",
    "literature[\"country\"] = countries"
   ]
  },
  {
   "cell_type": "code",
   "execution_count": 28,
   "metadata": {},
   "outputs": [
    {
     "data": {
      "text/html": [
       "<div>\n",
       "<style scoped>\n",
       "    .dataframe tbody tr th:only-of-type {\n",
       "        vertical-align: middle;\n",
       "    }\n",
       "\n",
       "    .dataframe tbody tr th {\n",
       "        vertical-align: top;\n",
       "    }\n",
       "\n",
       "    .dataframe thead th {\n",
       "        text-align: right;\n",
       "    }\n",
       "</style>\n",
       "<table border=\"1\" class=\"dataframe\">\n",
       "  <thead>\n",
       "    <tr style=\"text-align: right;\">\n",
       "      <th></th>\n",
       "      <th>Unnamed: 0</th>\n",
       "      <th>year</th>\n",
       "      <th>name</th>\n",
       "      <th>country</th>\n",
       "      <th>language</th>\n",
       "      <th>citation</th>\n",
       "      <th>genre</th>\n",
       "    </tr>\n",
       "  </thead>\n",
       "  <tbody>\n",
       "    <tr>\n",
       "      <th>0</th>\n",
       "      <td>0</td>\n",
       "      <td>1901</td>\n",
       "      <td>Sully Prudhomme</td>\n",
       "      <td>France</td>\n",
       "      <td>French</td>\n",
       "      <td>\"in special recognition of his poetic composit...</td>\n",
       "      <td>poetry, essay</td>\n",
       "    </tr>\n",
       "    <tr>\n",
       "      <th>1</th>\n",
       "      <td>1</td>\n",
       "      <td>1902</td>\n",
       "      <td>Theodor Mommsen</td>\n",
       "      <td>Germany</td>\n",
       "      <td>German</td>\n",
       "      <td>\"the greatest living master of the art of hist...</td>\n",
       "      <td>history, law</td>\n",
       "    </tr>\n",
       "    <tr>\n",
       "      <th>2</th>\n",
       "      <td>2</td>\n",
       "      <td>1903</td>\n",
       "      <td>Bjørnstjerne Bjørnson</td>\n",
       "      <td>Norway</td>\n",
       "      <td>Norwegian</td>\n",
       "      <td>\"as a tribute to his noble, magnificent and ve...</td>\n",
       "      <td>poetry, novel, drama</td>\n",
       "    </tr>\n",
       "    <tr>\n",
       "      <th>3</th>\n",
       "      <td>3</td>\n",
       "      <td>1904</td>\n",
       "      <td>Frédéric Mistral</td>\n",
       "      <td>France</td>\n",
       "      <td>Provençal</td>\n",
       "      <td>\"in recognition of the fresh originality and t...</td>\n",
       "      <td>poetry, philology</td>\n",
       "    </tr>\n",
       "    <tr>\n",
       "      <th>4</th>\n",
       "      <td>4</td>\n",
       "      <td>1904</td>\n",
       "      <td>José Echegaray</td>\n",
       "      <td>Spain</td>\n",
       "      <td>Spanish</td>\n",
       "      <td>\"in recognition of the numerous and brilliant ...</td>\n",
       "      <td>drama</td>\n",
       "    </tr>\n",
       "  </tbody>\n",
       "</table>\n",
       "</div>"
      ],
      "text/plain": [
       "   Unnamed: 0  year                   name  country   language  \\\n",
       "0           0  1901        Sully Prudhomme   France     French   \n",
       "1           1  1902        Theodor Mommsen  Germany     German   \n",
       "2           2  1903  Bjørnstjerne Bjørnson   Norway  Norwegian   \n",
       "3           3  1904       Frédéric Mistral   France  Provençal   \n",
       "4           4  1904         José Echegaray    Spain    Spanish   \n",
       "\n",
       "                                            citation                 genre  \n",
       "0  \"in special recognition of his poetic composit...         poetry, essay  \n",
       "1  \"the greatest living master of the art of hist...          history, law  \n",
       "2  \"as a tribute to his noble, magnificent and ve...  poetry, novel, drama  \n",
       "3  \"in recognition of the fresh originality and t...     poetry, philology  \n",
       "4  \"in recognition of the numerous and brilliant ...                 drama  "
      ]
     },
     "execution_count": 28,
     "metadata": {},
     "output_type": "execute_result"
    }
   ],
   "source": [
    "literature.head()"
   ]
  },
  {
   "cell_type": "code",
   "execution_count": 29,
   "metadata": {},
   "outputs": [],
   "source": [
    "litByCountry = literature.groupby(\"country\").count().sort_values(by=\"Unnamed: 0\",ascending=False)\n",
    "litByCountry[\"category\"] = \"Literature\""
   ]
  },
  {
   "cell_type": "code",
   "execution_count": 30,
   "metadata": {},
   "outputs": [
    {
     "data": {
      "text/html": [
       "<div>\n",
       "<style scoped>\n",
       "    .dataframe tbody tr th:only-of-type {\n",
       "        vertical-align: middle;\n",
       "    }\n",
       "\n",
       "    .dataframe tbody tr th {\n",
       "        vertical-align: top;\n",
       "    }\n",
       "\n",
       "    .dataframe thead th {\n",
       "        text-align: right;\n",
       "    }\n",
       "</style>\n",
       "<table border=\"1\" class=\"dataframe\">\n",
       "  <thead>\n",
       "    <tr style=\"text-align: right;\">\n",
       "      <th></th>\n",
       "      <th>Unnamed: 0</th>\n",
       "      <th>year</th>\n",
       "      <th>name</th>\n",
       "      <th>language</th>\n",
       "      <th>citation</th>\n",
       "      <th>genre</th>\n",
       "      <th>category</th>\n",
       "    </tr>\n",
       "    <tr>\n",
       "      <th>country</th>\n",
       "      <th></th>\n",
       "      <th></th>\n",
       "      <th></th>\n",
       "      <th></th>\n",
       "      <th></th>\n",
       "      <th></th>\n",
       "      <th></th>\n",
       "    </tr>\n",
       "  </thead>\n",
       "  <tbody>\n",
       "    <tr>\n",
       "      <th>France</th>\n",
       "      <td>14</td>\n",
       "      <td>14</td>\n",
       "      <td>14</td>\n",
       "      <td>14</td>\n",
       "      <td>14</td>\n",
       "      <td>14</td>\n",
       "      <td>Literature</td>\n",
       "    </tr>\n",
       "    <tr>\n",
       "      <th>UnitedStates</th>\n",
       "      <td>10</td>\n",
       "      <td>10</td>\n",
       "      <td>10</td>\n",
       "      <td>10</td>\n",
       "      <td>10</td>\n",
       "      <td>10</td>\n",
       "      <td>Literature</td>\n",
       "    </tr>\n",
       "    <tr>\n",
       "      <th>UnitedKingdom</th>\n",
       "      <td>10</td>\n",
       "      <td>10</td>\n",
       "      <td>10</td>\n",
       "      <td>10</td>\n",
       "      <td>10</td>\n",
       "      <td>10</td>\n",
       "      <td>Literature</td>\n",
       "    </tr>\n",
       "    <tr>\n",
       "      <th>Sweden</th>\n",
       "      <td>8</td>\n",
       "      <td>8</td>\n",
       "      <td>8</td>\n",
       "      <td>8</td>\n",
       "      <td>8</td>\n",
       "      <td>8</td>\n",
       "      <td>Literature</td>\n",
       "    </tr>\n",
       "    <tr>\n",
       "      <th>Germany</th>\n",
       "      <td>7</td>\n",
       "      <td>7</td>\n",
       "      <td>7</td>\n",
       "      <td>7</td>\n",
       "      <td>7</td>\n",
       "      <td>7</td>\n",
       "      <td>Literature</td>\n",
       "    </tr>\n",
       "  </tbody>\n",
       "</table>\n",
       "</div>"
      ],
      "text/plain": [
       "               Unnamed: 0  year  name  language  citation  genre    category\n",
       "country                                                                     \n",
       "France                 14    14    14        14        14     14  Literature\n",
       "UnitedStates           10    10    10        10        10     10  Literature\n",
       "UnitedKingdom          10    10    10        10        10     10  Literature\n",
       "Sweden                  8     8     8         8         8      8  Literature\n",
       "Germany                 7     7     7         7         7      7  Literature"
      ]
     },
     "execution_count": 30,
     "metadata": {},
     "output_type": "execute_result"
    }
   ],
   "source": [
    "litByCountry.head()"
   ]
  },
  {
   "cell_type": "code",
   "execution_count": 31,
   "metadata": {},
   "outputs": [],
   "source": [
    "litByCountry.reset_index(inplace=True)"
   ]
  },
  {
   "cell_type": "code",
   "execution_count": 32,
   "metadata": {},
   "outputs": [],
   "source": [
    "litByCountry.columns = [\"country\",\"unnamed: 0\",\"year\",\"name\",\"language\",\"citation\",\"genre\",\"category\"]"
   ]
  },
  {
   "cell_type": "code",
   "execution_count": 33,
   "metadata": {},
   "outputs": [],
   "source": [
    "litByCountry.drop(\"unnamed: 0\",axis=1,inplace=True)"
   ]
  },
  {
   "cell_type": "code",
   "execution_count": 34,
   "metadata": {},
   "outputs": [],
   "source": [
    "litByCountryNums = litByCountry[[\"country\",\"year\",\"category\"]]"
   ]
  },
  {
   "cell_type": "markdown",
   "metadata": {},
   "source": [
    "## Peace"
   ]
  },
  {
   "cell_type": "code",
   "execution_count": 35,
   "metadata": {},
   "outputs": [],
   "source": [
    "countries = []\n",
    "for country in peace[\"Country\"]:\n",
    "    #print(type(country))\n",
    "    if isinstance(country,str):\n",
    "        country = re.sub(\"[\\(\\[].*?[\\)\\]]\", \"\", country)\n",
    "        country = ucd.normalize('NFKD',country).replace(\" \",'')\n",
    "    countries.append(country)\n",
    "peace[\"Country\"] = countries"
   ]
  },
  {
   "cell_type": "code",
   "execution_count": 36,
   "metadata": {},
   "outputs": [
    {
     "data": {
      "text/html": [
       "<div>\n",
       "<style scoped>\n",
       "    .dataframe tbody tr th:only-of-type {\n",
       "        vertical-align: middle;\n",
       "    }\n",
       "\n",
       "    .dataframe tbody tr th {\n",
       "        vertical-align: top;\n",
       "    }\n",
       "\n",
       "    .dataframe thead th {\n",
       "        text-align: right;\n",
       "    }\n",
       "</style>\n",
       "<table border=\"1\" class=\"dataframe\">\n",
       "  <thead>\n",
       "    <tr style=\"text-align: right;\">\n",
       "      <th></th>\n",
       "      <th>Year</th>\n",
       "      <th>Laureate</th>\n",
       "      <th>Laureate.1</th>\n",
       "      <th>Country</th>\n",
       "      <th>Rationale</th>\n",
       "      <th>category</th>\n",
       "    </tr>\n",
       "  </thead>\n",
       "  <tbody>\n",
       "    <tr>\n",
       "      <th>0</th>\n",
       "      <td>1901</td>\n",
       "      <td>NaN</td>\n",
       "      <td>Henry Dunant</td>\n",
       "      <td>Switzerland</td>\n",
       "      <td>For his role in founding the International Com...</td>\n",
       "      <td>Peace</td>\n",
       "    </tr>\n",
       "    <tr>\n",
       "      <th>1</th>\n",
       "      <td>1901</td>\n",
       "      <td>NaN</td>\n",
       "      <td>Frédéric Passy</td>\n",
       "      <td>France</td>\n",
       "      <td>\"[For] being one of the main founders of the I...</td>\n",
       "      <td>Peace</td>\n",
       "    </tr>\n",
       "    <tr>\n",
       "      <th>2</th>\n",
       "      <td>1902</td>\n",
       "      <td>NaN</td>\n",
       "      <td>Élie Ducommun</td>\n",
       "      <td>Switzerland</td>\n",
       "      <td>\"[For his role as] the first honorary secretar...</td>\n",
       "      <td>Peace</td>\n",
       "    </tr>\n",
       "    <tr>\n",
       "      <th>3</th>\n",
       "      <td>1902</td>\n",
       "      <td>NaN</td>\n",
       "      <td>Charles Albert Gobat</td>\n",
       "      <td>Switzerland</td>\n",
       "      <td>\"[For his role as the] first Secretary General...</td>\n",
       "      <td>Peace</td>\n",
       "    </tr>\n",
       "    <tr>\n",
       "      <th>4</th>\n",
       "      <td>1903</td>\n",
       "      <td>NaN</td>\n",
       "      <td>William Randal Cremer</td>\n",
       "      <td>UnitedKingdom</td>\n",
       "      <td>\"[For his role as] the 'first father' of the I...</td>\n",
       "      <td>Peace</td>\n",
       "    </tr>\n",
       "  </tbody>\n",
       "</table>\n",
       "</div>"
      ],
      "text/plain": [
       "   Year Laureate             Laureate.1        Country  \\\n",
       "0  1901      NaN           Henry Dunant    Switzerland   \n",
       "1  1901      NaN         Frédéric Passy         France   \n",
       "2  1902      NaN          Élie Ducommun    Switzerland   \n",
       "3  1902      NaN   Charles Albert Gobat    Switzerland   \n",
       "4  1903      NaN  William Randal Cremer  UnitedKingdom   \n",
       "\n",
       "                                           Rationale category  \n",
       "0  For his role in founding the International Com...    Peace  \n",
       "1  \"[For] being one of the main founders of the I...    Peace  \n",
       "2  \"[For his role as] the first honorary secretar...    Peace  \n",
       "3  \"[For his role as the] first Secretary General...    Peace  \n",
       "4  \"[For his role as] the 'first father' of the I...    Peace  "
      ]
     },
     "execution_count": 36,
     "metadata": {},
     "output_type": "execute_result"
    }
   ],
   "source": [
    "peace.head()"
   ]
  },
  {
   "cell_type": "code",
   "execution_count": 37,
   "metadata": {},
   "outputs": [
    {
     "data": {
      "text/plain": [
       "array(['Switzerland', 'France', 'UnitedKingdom', 'Belgium',\n",
       "       'Austria-Hungary', 'UnitedStates', 'Italy', 'Sweden', 'Denmark',\n",
       "       'Netherlands', 'NotawardedduetoWorldWarI.', 'Norway', 'Notawarded',\n",
       "       'Germany', 'Argentina', 'LeagueofNations',\n",
       "       'NotawardedduetoWorldWarII.', nan,\n",
       "       'Notawardedbecause\"therewasnosuitablelivingcandidate.\"',\n",
       "       'UnitedNations', 'Canada', 'SouthAfrica', 'WestGermany', 'Vietnam',\n",
       "       'Ireland', 'Japan', 'SovietUnion', 'Egypt', 'IsraelPoland',\n",
       "       'India', 'Mexico', 'Poland', 'CostaRica', 'Burma', 'Guatemala',\n",
       "       'Palestine', 'Israel', 'EastTimor', 'SouthKorea', 'Ghana', 'Iran',\n",
       "       'Kenya', 'Bangladesh', 'Finland', 'China', 'Liberia', 'Yemen',\n",
       "       'EuropeanUnion', 'Pakistan', 'Tunisia', 'Colombia',\n",
       "       'DemocraticRepublicoftheCongo', 'Iraq'], dtype=object)"
      ]
     },
     "execution_count": 37,
     "metadata": {},
     "output_type": "execute_result"
    }
   ],
   "source": [
    "peace[\"Country\"].unique()"
   ]
  },
  {
   "cell_type": "code",
   "execution_count": 38,
   "metadata": {},
   "outputs": [],
   "source": [
    "peaceByCountry = peace.groupby(\"Country\").count().sort_values(by=\"Year\",ascending=False)\n",
    "peaceByCountry[\"category\"] = \"Peace\""
   ]
  },
  {
   "cell_type": "code",
   "execution_count": 39,
   "metadata": {},
   "outputs": [],
   "source": [
    "peaceByCountry.drop(\"Notawarded\",inplace=True)\n",
    "peaceByCountry.drop('Notawardedbecause\"therewasnosuitablelivingcandidate.\"',inplace=True)\n",
    "peaceByCountry.drop(\"NotawardedduetoWorldWarI.\",inplace=True)\n",
    "peaceByCountry.drop(\"NotawardedduetoWorldWarII.\",inplace=True)"
   ]
  },
  {
   "cell_type": "code",
   "execution_count": 40,
   "metadata": {},
   "outputs": [
    {
     "data": {
      "text/plain": [
       "Index(['UnitedStates', 'UnitedKingdom', 'Switzerland', 'France',\n",
       "       'UnitedNations', 'Sweden', 'SouthAfrica', 'Belgium', 'India', 'Germany',\n",
       "       'Austria-Hungary', 'Israel', 'Ireland', 'Liberia', 'Netherlands',\n",
       "       'Poland', 'Argentina', 'SovietUnion', 'Egypt', 'EastTimor', 'Canada',\n",
       "       'Bangladesh', 'Norway', 'SouthKorea', 'Palestine', 'Pakistan',\n",
       "       'Tunisia', 'Vietnam', 'WestGermany', 'Japan', 'Mexico',\n",
       "       'LeagueofNations', 'Burma', 'China', 'Colombia', 'CostaRica',\n",
       "       'DemocraticRepublicoftheCongo', 'Denmark', 'EuropeanUnion', 'Finland',\n",
       "       'Ghana', 'Guatemala', 'Iran', 'Iraq', 'IsraelPoland', 'Italy', 'Kenya',\n",
       "       'Yemen'],\n",
       "      dtype='object', name='Country')"
      ]
     },
     "execution_count": 40,
     "metadata": {},
     "output_type": "execute_result"
    }
   ],
   "source": [
    "peaceByCountry.index.unique()"
   ]
  },
  {
   "cell_type": "code",
   "execution_count": 41,
   "metadata": {},
   "outputs": [
    {
     "data": {
      "text/html": [
       "<div>\n",
       "<style scoped>\n",
       "    .dataframe tbody tr th:only-of-type {\n",
       "        vertical-align: middle;\n",
       "    }\n",
       "\n",
       "    .dataframe tbody tr th {\n",
       "        vertical-align: top;\n",
       "    }\n",
       "\n",
       "    .dataframe thead th {\n",
       "        text-align: right;\n",
       "    }\n",
       "</style>\n",
       "<table border=\"1\" class=\"dataframe\">\n",
       "  <thead>\n",
       "    <tr style=\"text-align: right;\">\n",
       "      <th></th>\n",
       "      <th>Year</th>\n",
       "      <th>Laureate</th>\n",
       "      <th>Laureate.1</th>\n",
       "      <th>Rationale</th>\n",
       "      <th>category</th>\n",
       "    </tr>\n",
       "    <tr>\n",
       "      <th>Country</th>\n",
       "      <th></th>\n",
       "      <th></th>\n",
       "      <th></th>\n",
       "      <th></th>\n",
       "      <th></th>\n",
       "    </tr>\n",
       "  </thead>\n",
       "  <tbody>\n",
       "    <tr>\n",
       "      <th>UnitedStates</th>\n",
       "      <td>22</td>\n",
       "      <td>0</td>\n",
       "      <td>22</td>\n",
       "      <td>22</td>\n",
       "      <td>Peace</td>\n",
       "    </tr>\n",
       "    <tr>\n",
       "      <th>UnitedKingdom</th>\n",
       "      <td>11</td>\n",
       "      <td>0</td>\n",
       "      <td>11</td>\n",
       "      <td>11</td>\n",
       "      <td>Peace</td>\n",
       "    </tr>\n",
       "    <tr>\n",
       "      <th>Switzerland</th>\n",
       "      <td>11</td>\n",
       "      <td>0</td>\n",
       "      <td>11</td>\n",
       "      <td>11</td>\n",
       "      <td>Peace</td>\n",
       "    </tr>\n",
       "    <tr>\n",
       "      <th>France</th>\n",
       "      <td>9</td>\n",
       "      <td>0</td>\n",
       "      <td>9</td>\n",
       "      <td>9</td>\n",
       "      <td>Peace</td>\n",
       "    </tr>\n",
       "    <tr>\n",
       "      <th>UnitedNations</th>\n",
       "      <td>8</td>\n",
       "      <td>0</td>\n",
       "      <td>8</td>\n",
       "      <td>8</td>\n",
       "      <td>Peace</td>\n",
       "    </tr>\n",
       "  </tbody>\n",
       "</table>\n",
       "</div>"
      ],
      "text/plain": [
       "               Year  Laureate  Laureate.1  Rationale category\n",
       "Country                                                      \n",
       "UnitedStates     22         0          22         22    Peace\n",
       "UnitedKingdom    11         0          11         11    Peace\n",
       "Switzerland      11         0          11         11    Peace\n",
       "France            9         0           9          9    Peace\n",
       "UnitedNations     8         0           8          8    Peace"
      ]
     },
     "execution_count": 41,
     "metadata": {},
     "output_type": "execute_result"
    }
   ],
   "source": [
    "peaceByCountry.head()"
   ]
  },
  {
   "cell_type": "code",
   "execution_count": 42,
   "metadata": {},
   "outputs": [],
   "source": [
    "peaceByCountry.reset_index(inplace=True)\n",
    "peaceByCountry.columns = [\"country\",\"year\",\"laureate\",\"laureate.1\",\"rationale\",\"category\"]"
   ]
  },
  {
   "cell_type": "code",
   "execution_count": 43,
   "metadata": {},
   "outputs": [],
   "source": [
    "peaceByCountry.drop(\"laureate.1\",axis=1,inplace=True)"
   ]
  },
  {
   "cell_type": "code",
   "execution_count": 44,
   "metadata": {},
   "outputs": [],
   "source": [
    "peaceByCountryNums = peaceByCountry[[\"country\",\"year\",\"category\"]]"
   ]
  },
  {
   "cell_type": "code",
   "execution_count": 45,
   "metadata": {},
   "outputs": [
    {
     "data": {
      "text/plain": [
       "array(['UnitedStates', 'UnitedKingdom', 'Switzerland', 'France',\n",
       "       'UnitedNations', 'Sweden', 'SouthAfrica', 'Belgium', 'India',\n",
       "       'Germany', 'Austria-Hungary', 'Israel', 'Ireland', 'Liberia',\n",
       "       'Netherlands', 'Poland', 'Argentina', 'SovietUnion', 'Egypt',\n",
       "       'EastTimor', 'Canada', 'Bangladesh', 'Norway', 'SouthKorea',\n",
       "       'Palestine', 'Pakistan', 'Tunisia', 'Vietnam', 'WestGermany',\n",
       "       'Japan', 'Mexico', 'LeagueofNations', 'Burma', 'China', 'Colombia',\n",
       "       'CostaRica', 'DemocraticRepublicoftheCongo', 'Denmark',\n",
       "       'EuropeanUnion', 'Finland', 'Ghana', 'Guatemala', 'Iran', 'Iraq',\n",
       "       'IsraelPoland', 'Italy', 'Kenya', 'Yemen'], dtype=object)"
      ]
     },
     "execution_count": 45,
     "metadata": {},
     "output_type": "execute_result"
    }
   ],
   "source": [
    "peaceByCountryNums[\"country\"].unique()"
   ]
  },
  {
   "cell_type": "markdown",
   "metadata": {},
   "source": [
    "## Economics"
   ]
  },
  {
   "cell_type": "code",
   "execution_count": 46,
   "metadata": {},
   "outputs": [],
   "source": [
    "countries = []\n",
    "for country in econ[\"Country\"]:\n",
    "    #print(type(country))\n",
    "    if isinstance(country,str):\n",
    "        country = re.sub(\"[\\(\\[].*?[\\)\\]]\", \"\", country)\n",
    "        country = ucd.normalize('NFKD',country).replace(\" \",'')\n",
    "    countries.append(country)\n",
    "econ[\"Country\"] = countries"
   ]
  },
  {
   "cell_type": "code",
   "execution_count": 47,
   "metadata": {},
   "outputs": [],
   "source": [
    "econByCountry = econ.groupby(\"Country\").count().sort_values(by=\"Year\",ascending=False)\n",
    "econByCountry[\"category\"] = \"Economics\""
   ]
  },
  {
   "cell_type": "code",
   "execution_count": 48,
   "metadata": {},
   "outputs": [
    {
     "data": {
      "text/html": [
       "<div>\n",
       "<style scoped>\n",
       "    .dataframe tbody tr th:only-of-type {\n",
       "        vertical-align: middle;\n",
       "    }\n",
       "\n",
       "    .dataframe tbody tr th {\n",
       "        vertical-align: top;\n",
       "    }\n",
       "\n",
       "    .dataframe thead th {\n",
       "        text-align: right;\n",
       "    }\n",
       "</style>\n",
       "<table border=\"1\" class=\"dataframe\">\n",
       "  <thead>\n",
       "    <tr style=\"text-align: right;\">\n",
       "      <th></th>\n",
       "      <th>Year</th>\n",
       "      <th>Unnamed: 1</th>\n",
       "      <th>Laureate</th>\n",
       "      <th>Rationale</th>\n",
       "      <th>Ph.D. alma mater</th>\n",
       "      <th>Institution (most significant tenure/at time of receipt)</th>\n",
       "      <th>category</th>\n",
       "    </tr>\n",
       "    <tr>\n",
       "      <th>Country</th>\n",
       "      <th></th>\n",
       "      <th></th>\n",
       "      <th></th>\n",
       "      <th></th>\n",
       "      <th></th>\n",
       "      <th></th>\n",
       "      <th></th>\n",
       "    </tr>\n",
       "  </thead>\n",
       "  <tbody>\n",
       "    <tr>\n",
       "      <th>UnitedStates</th>\n",
       "      <td>47</td>\n",
       "      <td>0</td>\n",
       "      <td>47</td>\n",
       "      <td>47</td>\n",
       "      <td>47</td>\n",
       "      <td>47</td>\n",
       "      <td>Economics</td>\n",
       "    </tr>\n",
       "    <tr>\n",
       "      <th>UnitedKingdom</th>\n",
       "      <td>6</td>\n",
       "      <td>0</td>\n",
       "      <td>6</td>\n",
       "      <td>6</td>\n",
       "      <td>6</td>\n",
       "      <td>6</td>\n",
       "      <td>Economics</td>\n",
       "    </tr>\n",
       "    <tr>\n",
       "      <th>Norway</th>\n",
       "      <td>3</td>\n",
       "      <td>0</td>\n",
       "      <td>3</td>\n",
       "      <td>3</td>\n",
       "      <td>3</td>\n",
       "      <td>3</td>\n",
       "      <td>Economics</td>\n",
       "    </tr>\n",
       "    <tr>\n",
       "      <th>France</th>\n",
       "      <td>3</td>\n",
       "      <td>0</td>\n",
       "      <td>3</td>\n",
       "      <td>3</td>\n",
       "      <td>3</td>\n",
       "      <td>3</td>\n",
       "      <td>Economics</td>\n",
       "    </tr>\n",
       "    <tr>\n",
       "      <th>CanadaUnitedStates</th>\n",
       "      <td>2</td>\n",
       "      <td>0</td>\n",
       "      <td>2</td>\n",
       "      <td>2</td>\n",
       "      <td>2</td>\n",
       "      <td>2</td>\n",
       "      <td>Economics</td>\n",
       "    </tr>\n",
       "  </tbody>\n",
       "</table>\n",
       "</div>"
      ],
      "text/plain": [
       "                    Year  Unnamed: 1  Laureate  Rationale  Ph.D. alma mater  \\\n",
       "Country                                                                       \n",
       "UnitedStates          47           0        47         47                47   \n",
       "UnitedKingdom          6           0         6          6                 6   \n",
       "Norway                 3           0         3          3                 3   \n",
       "France                 3           0         3          3                 3   \n",
       "CanadaUnitedStates     2           0         2          2                 2   \n",
       "\n",
       "                    Institution (most significant tenure/at time of receipt)  \\\n",
       "Country                                                                        \n",
       "UnitedStates                                                       47          \n",
       "UnitedKingdom                                                       6          \n",
       "Norway                                                              3          \n",
       "France                                                              3          \n",
       "CanadaUnitedStates                                                  2          \n",
       "\n",
       "                     category  \n",
       "Country                        \n",
       "UnitedStates        Economics  \n",
       "UnitedKingdom       Economics  \n",
       "Norway              Economics  \n",
       "France              Economics  \n",
       "CanadaUnitedStates  Economics  "
      ]
     },
     "execution_count": 48,
     "metadata": {},
     "output_type": "execute_result"
    }
   ],
   "source": [
    "econByCountry.head()"
   ]
  },
  {
   "cell_type": "code",
   "execution_count": 49,
   "metadata": {},
   "outputs": [],
   "source": [
    "econByCountry.reset_index(inplace=True)"
   ]
  },
  {
   "cell_type": "code",
   "execution_count": 50,
   "metadata": {},
   "outputs": [],
   "source": [
    "econByCountry.columns = [\"country\",\"year\",\"Unnamed: 1\",\"laureate\",\"rationale\",\"ph.d alma mater\",\"institution\",\"category\"]"
   ]
  },
  {
   "cell_type": "code",
   "execution_count": 51,
   "metadata": {},
   "outputs": [],
   "source": [
    "econByCountry.drop(\"Unnamed: 1\",axis=1,inplace=True)"
   ]
  },
  {
   "cell_type": "code",
   "execution_count": 52,
   "metadata": {},
   "outputs": [],
   "source": [
    "econByCountryNums = econByCountry[[\"country\",\"year\",\"category\"]]"
   ]
  },
  {
   "cell_type": "code",
   "execution_count": 53,
   "metadata": {},
   "outputs": [
    {
     "data": {
      "text/html": [
       "<div>\n",
       "<style scoped>\n",
       "    .dataframe tbody tr th:only-of-type {\n",
       "        vertical-align: middle;\n",
       "    }\n",
       "\n",
       "    .dataframe tbody tr th {\n",
       "        vertical-align: top;\n",
       "    }\n",
       "\n",
       "    .dataframe thead th {\n",
       "        text-align: right;\n",
       "    }\n",
       "</style>\n",
       "<table border=\"1\" class=\"dataframe\">\n",
       "  <thead>\n",
       "    <tr style=\"text-align: right;\">\n",
       "      <th></th>\n",
       "      <th>country</th>\n",
       "      <th>year</th>\n",
       "      <th>category</th>\n",
       "    </tr>\n",
       "  </thead>\n",
       "  <tbody>\n",
       "    <tr>\n",
       "      <th>0</th>\n",
       "      <td>UnitedStates</td>\n",
       "      <td>47</td>\n",
       "      <td>Economics</td>\n",
       "    </tr>\n",
       "    <tr>\n",
       "      <th>1</th>\n",
       "      <td>UnitedKingdom</td>\n",
       "      <td>6</td>\n",
       "      <td>Economics</td>\n",
       "    </tr>\n",
       "    <tr>\n",
       "      <th>2</th>\n",
       "      <td>Norway</td>\n",
       "      <td>3</td>\n",
       "      <td>Economics</td>\n",
       "    </tr>\n",
       "    <tr>\n",
       "      <th>3</th>\n",
       "      <td>France</td>\n",
       "      <td>3</td>\n",
       "      <td>Economics</td>\n",
       "    </tr>\n",
       "    <tr>\n",
       "      <th>4</th>\n",
       "      <td>CanadaUnitedStates</td>\n",
       "      <td>2</td>\n",
       "      <td>Economics</td>\n",
       "    </tr>\n",
       "  </tbody>\n",
       "</table>\n",
       "</div>"
      ],
      "text/plain": [
       "              country  year   category\n",
       "0        UnitedStates    47  Economics\n",
       "1       UnitedKingdom     6  Economics\n",
       "2              Norway     3  Economics\n",
       "3              France     3  Economics\n",
       "4  CanadaUnitedStates     2  Economics"
      ]
     },
     "execution_count": 53,
     "metadata": {},
     "output_type": "execute_result"
    }
   ],
   "source": [
    "econByCountryNums.head()"
   ]
  },
  {
   "cell_type": "markdown",
   "metadata": {},
   "source": [
    "## Medicine"
   ]
  },
  {
   "cell_type": "code",
   "execution_count": 54,
   "metadata": {},
   "outputs": [],
   "source": [
    "countries = []\n",
    "for country in med[\"Country[B]\"]:\n",
    "    #print(type(country))\n",
    "    if isinstance(country,str):\n",
    "        country = re.sub(\"[\\(\\[].*?[\\)\\]]\", \"\", country)\n",
    "        country = ucd.normalize('NFKD',country).replace(\" \",'')\n",
    "    countries.append(country)\n",
    "med[\"Country[B]\"] = countries"
   ]
  },
  {
   "cell_type": "code",
   "execution_count": 55,
   "metadata": {},
   "outputs": [
    {
     "data": {
      "text/html": [
       "<div>\n",
       "<style scoped>\n",
       "    .dataframe tbody tr th:only-of-type {\n",
       "        vertical-align: middle;\n",
       "    }\n",
       "\n",
       "    .dataframe tbody tr th {\n",
       "        vertical-align: top;\n",
       "    }\n",
       "\n",
       "    .dataframe thead th {\n",
       "        text-align: right;\n",
       "    }\n",
       "</style>\n",
       "<table border=\"1\" class=\"dataframe\">\n",
       "  <thead>\n",
       "    <tr style=\"text-align: right;\">\n",
       "      <th></th>\n",
       "      <th>Year</th>\n",
       "      <th>Image</th>\n",
       "      <th>Laureate[A]</th>\n",
       "      <th>Country[B]</th>\n",
       "      <th>Rationale[C]</th>\n",
       "      <th>Ref</th>\n",
       "      <th>category</th>\n",
       "    </tr>\n",
       "  </thead>\n",
       "  <tbody>\n",
       "    <tr>\n",
       "      <th>0</th>\n",
       "      <td>1901</td>\n",
       "      <td>NaN</td>\n",
       "      <td>Emil Adolf von Behring</td>\n",
       "      <td>Germany</td>\n",
       "      <td>\"for his work on serum therapy, especially its...</td>\n",
       "      <td>[13]</td>\n",
       "      <td>Physiology</td>\n",
       "    </tr>\n",
       "    <tr>\n",
       "      <th>1</th>\n",
       "      <td>1902</td>\n",
       "      <td>NaN</td>\n",
       "      <td>Sir Ronald Ross</td>\n",
       "      <td>UnitedKingdomIndia</td>\n",
       "      <td>\"for his work on malaria, by which he has show...</td>\n",
       "      <td>[14]</td>\n",
       "      <td>Physiology</td>\n",
       "    </tr>\n",
       "    <tr>\n",
       "      <th>2</th>\n",
       "      <td>1903</td>\n",
       "      <td>NaN</td>\n",
       "      <td>Niels Ryberg Finsen</td>\n",
       "      <td>Denmark</td>\n",
       "      <td>\"[for] his contribution to the treatment of di...</td>\n",
       "      <td>[15]</td>\n",
       "      <td>Physiology</td>\n",
       "    </tr>\n",
       "    <tr>\n",
       "      <th>3</th>\n",
       "      <td>1904</td>\n",
       "      <td>NaN</td>\n",
       "      <td>Ivan Petrovich Pavlov</td>\n",
       "      <td>Russia</td>\n",
       "      <td>\"in recognition of his work on the physiology ...</td>\n",
       "      <td>[16]</td>\n",
       "      <td>Physiology</td>\n",
       "    </tr>\n",
       "    <tr>\n",
       "      <th>4</th>\n",
       "      <td>1905</td>\n",
       "      <td>NaN</td>\n",
       "      <td>Robert Koch</td>\n",
       "      <td>Germany</td>\n",
       "      <td>\"for his investigations and discoveries in rel...</td>\n",
       "      <td>[17]</td>\n",
       "      <td>Physiology</td>\n",
       "    </tr>\n",
       "  </tbody>\n",
       "</table>\n",
       "</div>"
      ],
      "text/plain": [
       "   Year Image             Laureate[A]          Country[B]  \\\n",
       "0  1901   NaN  Emil Adolf von Behring             Germany   \n",
       "1  1902   NaN         Sir Ronald Ross  UnitedKingdomIndia   \n",
       "2  1903   NaN     Niels Ryberg Finsen             Denmark   \n",
       "3  1904   NaN   Ivan Petrovich Pavlov              Russia   \n",
       "4  1905   NaN             Robert Koch             Germany   \n",
       "\n",
       "                                        Rationale[C]   Ref    category  \n",
       "0  \"for his work on serum therapy, especially its...  [13]  Physiology  \n",
       "1  \"for his work on malaria, by which he has show...  [14]  Physiology  \n",
       "2  \"[for] his contribution to the treatment of di...  [15]  Physiology  \n",
       "3  \"in recognition of his work on the physiology ...  [16]  Physiology  \n",
       "4  \"for his investigations and discoveries in rel...  [17]  Physiology  "
      ]
     },
     "execution_count": 55,
     "metadata": {},
     "output_type": "execute_result"
    }
   ],
   "source": [
    "med.head()"
   ]
  },
  {
   "cell_type": "code",
   "execution_count": 56,
   "metadata": {},
   "outputs": [],
   "source": [
    "medByCountry = med.groupby(\"Country[B]\").count().sort_values(by=\"Year\",ascending=False)\n",
    "medByCountry[\"category\"] = \"Physiology\""
   ]
  },
  {
   "cell_type": "code",
   "execution_count": 57,
   "metadata": {},
   "outputs": [],
   "source": [
    "medByCountry.drop(\"Notawarded\",inplace=True)"
   ]
  },
  {
   "cell_type": "code",
   "execution_count": 58,
   "metadata": {},
   "outputs": [
    {
     "data": {
      "text/html": [
       "<div>\n",
       "<style scoped>\n",
       "    .dataframe tbody tr th:only-of-type {\n",
       "        vertical-align: middle;\n",
       "    }\n",
       "\n",
       "    .dataframe tbody tr th {\n",
       "        vertical-align: top;\n",
       "    }\n",
       "\n",
       "    .dataframe thead th {\n",
       "        text-align: right;\n",
       "    }\n",
       "</style>\n",
       "<table border=\"1\" class=\"dataframe\">\n",
       "  <thead>\n",
       "    <tr style=\"text-align: right;\">\n",
       "      <th></th>\n",
       "      <th>Year</th>\n",
       "      <th>Image</th>\n",
       "      <th>Laureate[A]</th>\n",
       "      <th>Rationale[C]</th>\n",
       "      <th>Ref</th>\n",
       "      <th>category</th>\n",
       "    </tr>\n",
       "    <tr>\n",
       "      <th>Country[B]</th>\n",
       "      <th></th>\n",
       "      <th></th>\n",
       "      <th></th>\n",
       "      <th></th>\n",
       "      <th></th>\n",
       "      <th></th>\n",
       "    </tr>\n",
       "  </thead>\n",
       "  <tbody>\n",
       "    <tr>\n",
       "      <th>UnitedStates</th>\n",
       "      <td>90</td>\n",
       "      <td>0</td>\n",
       "      <td>90</td>\n",
       "      <td>90</td>\n",
       "      <td>90</td>\n",
       "      <td>Physiology</td>\n",
       "    </tr>\n",
       "    <tr>\n",
       "      <th>UnitedKingdom</th>\n",
       "      <td>26</td>\n",
       "      <td>0</td>\n",
       "      <td>26</td>\n",
       "      <td>26</td>\n",
       "      <td>26</td>\n",
       "      <td>Physiology</td>\n",
       "    </tr>\n",
       "    <tr>\n",
       "      <th>Germany</th>\n",
       "      <td>12</td>\n",
       "      <td>0</td>\n",
       "      <td>12</td>\n",
       "      <td>12</td>\n",
       "      <td>12</td>\n",
       "      <td>Physiology</td>\n",
       "    </tr>\n",
       "    <tr>\n",
       "      <th>France</th>\n",
       "      <td>11</td>\n",
       "      <td>0</td>\n",
       "      <td>11</td>\n",
       "      <td>11</td>\n",
       "      <td>11</td>\n",
       "      <td>Physiology</td>\n",
       "    </tr>\n",
       "    <tr>\n",
       "      <th>Sweden</th>\n",
       "      <td>7</td>\n",
       "      <td>0</td>\n",
       "      <td>7</td>\n",
       "      <td>7</td>\n",
       "      <td>7</td>\n",
       "      <td>Physiology</td>\n",
       "    </tr>\n",
       "  </tbody>\n",
       "</table>\n",
       "</div>"
      ],
      "text/plain": [
       "               Year  Image  Laureate[A]  Rationale[C]  Ref    category\n",
       "Country[B]                                                            \n",
       "UnitedStates     90      0           90            90   90  Physiology\n",
       "UnitedKingdom    26      0           26            26   26  Physiology\n",
       "Germany          12      0           12            12   12  Physiology\n",
       "France           11      0           11            11   11  Physiology\n",
       "Sweden            7      0            7             7    7  Physiology"
      ]
     },
     "execution_count": 58,
     "metadata": {},
     "output_type": "execute_result"
    }
   ],
   "source": [
    "medByCountry.head()"
   ]
  },
  {
   "cell_type": "code",
   "execution_count": 59,
   "metadata": {},
   "outputs": [],
   "source": [
    "medByCountry.reset_index(inplace=True)"
   ]
  },
  {
   "cell_type": "code",
   "execution_count": 60,
   "metadata": {},
   "outputs": [],
   "source": [
    "medByCountry.columns = [\"country\",\"year\",\"image\",\"laureate\",\"rationale\",\"ref\",\"category\"]"
   ]
  },
  {
   "cell_type": "code",
   "execution_count": 61,
   "metadata": {},
   "outputs": [],
   "source": [
    "medByCountryNums = medByCountry[[\"country\",\"year\",\"category\"]]"
   ]
  },
  {
   "cell_type": "code",
   "execution_count": 62,
   "metadata": {},
   "outputs": [
    {
     "data": {
      "text/html": [
       "<div>\n",
       "<style scoped>\n",
       "    .dataframe tbody tr th:only-of-type {\n",
       "        vertical-align: middle;\n",
       "    }\n",
       "\n",
       "    .dataframe tbody tr th {\n",
       "        vertical-align: top;\n",
       "    }\n",
       "\n",
       "    .dataframe thead th {\n",
       "        text-align: right;\n",
       "    }\n",
       "</style>\n",
       "<table border=\"1\" class=\"dataframe\">\n",
       "  <thead>\n",
       "    <tr style=\"text-align: right;\">\n",
       "      <th></th>\n",
       "      <th>country</th>\n",
       "      <th>year</th>\n",
       "      <th>category</th>\n",
       "    </tr>\n",
       "  </thead>\n",
       "  <tbody>\n",
       "    <tr>\n",
       "      <th>0</th>\n",
       "      <td>UnitedStates</td>\n",
       "      <td>90</td>\n",
       "      <td>Physiology</td>\n",
       "    </tr>\n",
       "    <tr>\n",
       "      <th>1</th>\n",
       "      <td>UnitedKingdom</td>\n",
       "      <td>26</td>\n",
       "      <td>Physiology</td>\n",
       "    </tr>\n",
       "    <tr>\n",
       "      <th>2</th>\n",
       "      <td>Germany</td>\n",
       "      <td>12</td>\n",
       "      <td>Physiology</td>\n",
       "    </tr>\n",
       "    <tr>\n",
       "      <th>3</th>\n",
       "      <td>France</td>\n",
       "      <td>11</td>\n",
       "      <td>Physiology</td>\n",
       "    </tr>\n",
       "    <tr>\n",
       "      <th>4</th>\n",
       "      <td>Sweden</td>\n",
       "      <td>7</td>\n",
       "      <td>Physiology</td>\n",
       "    </tr>\n",
       "  </tbody>\n",
       "</table>\n",
       "</div>"
      ],
      "text/plain": [
       "         country  year    category\n",
       "0   UnitedStates    90  Physiology\n",
       "1  UnitedKingdom    26  Physiology\n",
       "2        Germany    12  Physiology\n",
       "3         France    11  Physiology\n",
       "4         Sweden     7  Physiology"
      ]
     },
     "execution_count": 62,
     "metadata": {},
     "output_type": "execute_result"
    }
   ],
   "source": [
    "medByCountryNums.head()"
   ]
  },
  {
   "cell_type": "markdown",
   "metadata": {},
   "source": [
    "## Chemistry"
   ]
  },
  {
   "cell_type": "code",
   "execution_count": 63,
   "metadata": {},
   "outputs": [],
   "source": [
    "countries = []\n",
    "for country in chem[\"Country[B]\"]:\n",
    "    #print(type(country))\n",
    "    if isinstance(country,str):\n",
    "        country = re.sub(\"[\\(\\[].*?[\\)\\]]\", \"\", country)\n",
    "        country = ucd.normalize('NFKD',country).replace(\" \",'')\n",
    "    countries.append(country)\n",
    "chem[\"Country[B]\"] = countries"
   ]
  },
  {
   "cell_type": "code",
   "execution_count": 64,
   "metadata": {},
   "outputs": [
    {
     "data": {
      "text/html": [
       "<div>\n",
       "<style scoped>\n",
       "    .dataframe tbody tr th:only-of-type {\n",
       "        vertical-align: middle;\n",
       "    }\n",
       "\n",
       "    .dataframe tbody tr th {\n",
       "        vertical-align: top;\n",
       "    }\n",
       "\n",
       "    .dataframe thead th {\n",
       "        text-align: right;\n",
       "    }\n",
       "</style>\n",
       "<table border=\"1\" class=\"dataframe\">\n",
       "  <thead>\n",
       "    <tr style=\"text-align: right;\">\n",
       "      <th></th>\n",
       "      <th>Year</th>\n",
       "      <th>Image</th>\n",
       "      <th>Laureate[A]</th>\n",
       "      <th>Country[B]</th>\n",
       "      <th>Rationale[C]</th>\n",
       "      <th>Ref</th>\n",
       "      <th>category</th>\n",
       "    </tr>\n",
       "  </thead>\n",
       "  <tbody>\n",
       "    <tr>\n",
       "      <th>0</th>\n",
       "      <td>1901</td>\n",
       "      <td>NaN</td>\n",
       "      <td>Jacobus Henricus van 't Hoff</td>\n",
       "      <td>Netherlands</td>\n",
       "      <td>\"[for his] discovery of the laws of chemical d...</td>\n",
       "      <td>[18]</td>\n",
       "      <td>Chemistry</td>\n",
       "    </tr>\n",
       "    <tr>\n",
       "      <th>1</th>\n",
       "      <td>1902</td>\n",
       "      <td>NaN</td>\n",
       "      <td>Hermann Emil Fischer</td>\n",
       "      <td>Germany</td>\n",
       "      <td>\"[for] his work on sugar and purine syntheses\"</td>\n",
       "      <td>[19]</td>\n",
       "      <td>Chemistry</td>\n",
       "    </tr>\n",
       "    <tr>\n",
       "      <th>2</th>\n",
       "      <td>1903</td>\n",
       "      <td>NaN</td>\n",
       "      <td>Svante August Arrhenius</td>\n",
       "      <td>Sweden</td>\n",
       "      <td>\"[for] his electrolytic theory of dissociation\"</td>\n",
       "      <td>[20]</td>\n",
       "      <td>Chemistry</td>\n",
       "    </tr>\n",
       "    <tr>\n",
       "      <th>3</th>\n",
       "      <td>1904</td>\n",
       "      <td>NaN</td>\n",
       "      <td>Sir William Ramsay</td>\n",
       "      <td>UnitedKingdom</td>\n",
       "      <td>\"[for his] discovery of the inert gaseous elem...</td>\n",
       "      <td>[21]</td>\n",
       "      <td>Chemistry</td>\n",
       "    </tr>\n",
       "    <tr>\n",
       "      <th>4</th>\n",
       "      <td>1905</td>\n",
       "      <td>NaN</td>\n",
       "      <td>Johann Friedrich Wilhelm Adolf von Baeyer</td>\n",
       "      <td>Germany</td>\n",
       "      <td>\"[for] the advancement of organic chemistry an...</td>\n",
       "      <td>[22]</td>\n",
       "      <td>Chemistry</td>\n",
       "    </tr>\n",
       "  </tbody>\n",
       "</table>\n",
       "</div>"
      ],
      "text/plain": [
       "   Year Image                                Laureate[A]     Country[B]  \\\n",
       "0  1901   NaN               Jacobus Henricus van 't Hoff    Netherlands   \n",
       "1  1902   NaN                       Hermann Emil Fischer        Germany   \n",
       "2  1903   NaN                    Svante August Arrhenius         Sweden   \n",
       "3  1904   NaN                         Sir William Ramsay  UnitedKingdom   \n",
       "4  1905   NaN  Johann Friedrich Wilhelm Adolf von Baeyer        Germany   \n",
       "\n",
       "                                        Rationale[C]   Ref   category  \n",
       "0  \"[for his] discovery of the laws of chemical d...  [18]  Chemistry  \n",
       "1     \"[for] his work on sugar and purine syntheses\"  [19]  Chemistry  \n",
       "2    \"[for] his electrolytic theory of dissociation\"  [20]  Chemistry  \n",
       "3  \"[for his] discovery of the inert gaseous elem...  [21]  Chemistry  \n",
       "4  \"[for] the advancement of organic chemistry an...  [22]  Chemistry  "
      ]
     },
     "execution_count": 64,
     "metadata": {},
     "output_type": "execute_result"
    }
   ],
   "source": [
    "chem.head()"
   ]
  },
  {
   "cell_type": "code",
   "execution_count": 65,
   "metadata": {},
   "outputs": [],
   "source": [
    "chemByCountry = chem.groupby(\"Country[B]\").count().sort_values(by=\"Year\",ascending=False)\n",
    "chemByCountry[\"category\"] = \"Chemistry\""
   ]
  },
  {
   "cell_type": "code",
   "execution_count": 66,
   "metadata": {},
   "outputs": [],
   "source": [
    "chemByCountry.drop(\"Notawarded\",inplace=True)"
   ]
  },
  {
   "cell_type": "code",
   "execution_count": 67,
   "metadata": {},
   "outputs": [],
   "source": [
    "chemByCountry.reset_index(inplace=True)"
   ]
  },
  {
   "cell_type": "code",
   "execution_count": 68,
   "metadata": {},
   "outputs": [
    {
     "data": {
      "text/html": [
       "<div>\n",
       "<style scoped>\n",
       "    .dataframe tbody tr th:only-of-type {\n",
       "        vertical-align: middle;\n",
       "    }\n",
       "\n",
       "    .dataframe tbody tr th {\n",
       "        vertical-align: top;\n",
       "    }\n",
       "\n",
       "    .dataframe thead th {\n",
       "        text-align: right;\n",
       "    }\n",
       "</style>\n",
       "<table border=\"1\" class=\"dataframe\">\n",
       "  <thead>\n",
       "    <tr style=\"text-align: right;\">\n",
       "      <th></th>\n",
       "      <th>Country[B]</th>\n",
       "      <th>Year</th>\n",
       "      <th>Image</th>\n",
       "      <th>Laureate[A]</th>\n",
       "      <th>Rationale[C]</th>\n",
       "      <th>Ref</th>\n",
       "      <th>category</th>\n",
       "    </tr>\n",
       "  </thead>\n",
       "  <tbody>\n",
       "    <tr>\n",
       "      <th>0</th>\n",
       "      <td>UnitedStates</td>\n",
       "      <td>59</td>\n",
       "      <td>0</td>\n",
       "      <td>59</td>\n",
       "      <td>59</td>\n",
       "      <td>59</td>\n",
       "      <td>Chemistry</td>\n",
       "    </tr>\n",
       "    <tr>\n",
       "      <th>1</th>\n",
       "      <td>UnitedKingdom</td>\n",
       "      <td>26</td>\n",
       "      <td>0</td>\n",
       "      <td>26</td>\n",
       "      <td>26</td>\n",
       "      <td>26</td>\n",
       "      <td>Chemistry</td>\n",
       "    </tr>\n",
       "    <tr>\n",
       "      <th>2</th>\n",
       "      <td>Germany</td>\n",
       "      <td>18</td>\n",
       "      <td>0</td>\n",
       "      <td>18</td>\n",
       "      <td>18</td>\n",
       "      <td>18</td>\n",
       "      <td>Chemistry</td>\n",
       "    </tr>\n",
       "    <tr>\n",
       "      <th>3</th>\n",
       "      <td>WestGermany</td>\n",
       "      <td>10</td>\n",
       "      <td>0</td>\n",
       "      <td>10</td>\n",
       "      <td>10</td>\n",
       "      <td>10</td>\n",
       "      <td>Chemistry</td>\n",
       "    </tr>\n",
       "    <tr>\n",
       "      <th>4</th>\n",
       "      <td>France</td>\n",
       "      <td>8</td>\n",
       "      <td>0</td>\n",
       "      <td>8</td>\n",
       "      <td>8</td>\n",
       "      <td>8</td>\n",
       "      <td>Chemistry</td>\n",
       "    </tr>\n",
       "  </tbody>\n",
       "</table>\n",
       "</div>"
      ],
      "text/plain": [
       "      Country[B]  Year  Image  Laureate[A]  Rationale[C]  Ref   category\n",
       "0   UnitedStates    59      0           59            59   59  Chemistry\n",
       "1  UnitedKingdom    26      0           26            26   26  Chemistry\n",
       "2        Germany    18      0           18            18   18  Chemistry\n",
       "3    WestGermany    10      0           10            10   10  Chemistry\n",
       "4         France     8      0            8             8    8  Chemistry"
      ]
     },
     "execution_count": 68,
     "metadata": {},
     "output_type": "execute_result"
    }
   ],
   "source": [
    "chemByCountry.head()"
   ]
  },
  {
   "cell_type": "code",
   "execution_count": 69,
   "metadata": {},
   "outputs": [],
   "source": [
    "chemByCountry.columns = [\"country\",\"year\",\"image\",\"laureate\",\"rationale\",\"ref\",\"category\"]"
   ]
  },
  {
   "cell_type": "code",
   "execution_count": 70,
   "metadata": {},
   "outputs": [],
   "source": [
    "chemByCountryNums = chemByCountry[[\"country\",\"year\",\"category\"]]"
   ]
  },
  {
   "cell_type": "code",
   "execution_count": 71,
   "metadata": {},
   "outputs": [
    {
     "data": {
      "text/html": [
       "<div>\n",
       "<style scoped>\n",
       "    .dataframe tbody tr th:only-of-type {\n",
       "        vertical-align: middle;\n",
       "    }\n",
       "\n",
       "    .dataframe tbody tr th {\n",
       "        vertical-align: top;\n",
       "    }\n",
       "\n",
       "    .dataframe thead th {\n",
       "        text-align: right;\n",
       "    }\n",
       "</style>\n",
       "<table border=\"1\" class=\"dataframe\">\n",
       "  <thead>\n",
       "    <tr style=\"text-align: right;\">\n",
       "      <th></th>\n",
       "      <th>country</th>\n",
       "      <th>year</th>\n",
       "      <th>category</th>\n",
       "    </tr>\n",
       "  </thead>\n",
       "  <tbody>\n",
       "    <tr>\n",
       "      <th>0</th>\n",
       "      <td>UnitedStates</td>\n",
       "      <td>59</td>\n",
       "      <td>Chemistry</td>\n",
       "    </tr>\n",
       "    <tr>\n",
       "      <th>1</th>\n",
       "      <td>UnitedKingdom</td>\n",
       "      <td>26</td>\n",
       "      <td>Chemistry</td>\n",
       "    </tr>\n",
       "    <tr>\n",
       "      <th>2</th>\n",
       "      <td>Germany</td>\n",
       "      <td>18</td>\n",
       "      <td>Chemistry</td>\n",
       "    </tr>\n",
       "    <tr>\n",
       "      <th>3</th>\n",
       "      <td>WestGermany</td>\n",
       "      <td>10</td>\n",
       "      <td>Chemistry</td>\n",
       "    </tr>\n",
       "    <tr>\n",
       "      <th>4</th>\n",
       "      <td>France</td>\n",
       "      <td>8</td>\n",
       "      <td>Chemistry</td>\n",
       "    </tr>\n",
       "  </tbody>\n",
       "</table>\n",
       "</div>"
      ],
      "text/plain": [
       "         country  year   category\n",
       "0   UnitedStates    59  Chemistry\n",
       "1  UnitedKingdom    26  Chemistry\n",
       "2        Germany    18  Chemistry\n",
       "3    WestGermany    10  Chemistry\n",
       "4         France     8  Chemistry"
      ]
     },
     "execution_count": 71,
     "metadata": {},
     "output_type": "execute_result"
    }
   ],
   "source": [
    "chemByCountryNums.head()"
   ]
  },
  {
   "cell_type": "markdown",
   "metadata": {},
   "source": [
    "# Merge"
   ]
  },
  {
   "cell_type": "markdown",
   "metadata": {},
   "source": [
    "physicsByCountryNum,\n",
    "litByCountryNum,\n",
    "peaceByCountryNum,\n",
    "econByCountryNum,\n",
    "medByCountryNum,\n",
    "chemByCountryNum"
   ]
  },
  {
   "cell_type": "code",
   "execution_count": 72,
   "metadata": {},
   "outputs": [],
   "source": [
    "all_dfs = [physicsByCountryNums, litByCountryNums, peaceByCountryNums, econByCountryNums, medByCountryNums, chemByCountryNums]"
   ]
  },
  {
   "cell_type": "code",
   "execution_count": 73,
   "metadata": {},
   "outputs": [],
   "source": [
    "all_dfsTop5 = [physicsByCountryNums[:5], litByCountryNums[:5], peaceByCountryNums[:5], econByCountryNums[:5], medByCountryNums[:5], chemByCountryNums[:5]]"
   ]
  },
  {
   "cell_type": "code",
   "execution_count": 74,
   "metadata": {},
   "outputs": [],
   "source": [
    "all_top5 = pd.concat(all_dfsTop5).reset_index(drop=True)"
   ]
  },
  {
   "cell_type": "code",
   "execution_count": 75,
   "metadata": {},
   "outputs": [],
   "source": [
    "all_top5.columns = [\"Country\",\"Number Of Laureates\",\"Category\"]"
   ]
  },
  {
   "cell_type": "code",
   "execution_count": 76,
   "metadata": {},
   "outputs": [
    {
     "data": {
      "image/png": "[encoded data removed]",
      "text/plain": [
       "<Figure size 432x72 with 1 Axes>"
      ]
     },
     "metadata": {
      "needs_background": "light"
     },
     "output_type": "display_data"
    }
   ],
   "source": [
    "sns.palplot(sns.light_palette((210, 90, 60), input=\"husl\"))\n",
    "sns.set(rc={'figure.figsize':(20,20)})\n",
    "sns.set_palette(sns.diverging_palette(220, 20, n=7))\n",
    "sns.set(font_scale=2)"
   ]
  },
  {
   "cell_type": "code",
   "execution_count": 90,
   "metadata": {},
   "outputs": [
    {
     "ename": "TypeError",
     "evalue": "cannot unpack non-iterable AxesSubplot object",
     "output_type": "error",
     "traceback": [
      "\u001b[1;31m---------------------------------------------------------------------------\u001b[0m",
      "\u001b[1;31mTypeError\u001b[0m                                 Traceback (most recent call last)",
      "\u001b[1;32m<ipython-input-90-e6d4b7fd4ce2>\u001b[0m in \u001b[0;36m<module>\u001b[1;34m\u001b[0m\n\u001b[1;32m----> 1\u001b[1;33m \u001b[0max\u001b[0m\u001b[1;33m,\u001b[0m\u001b[0mfig\u001b[0m \u001b[1;33m=\u001b[0m \u001b[0msns\u001b[0m\u001b[1;33m.\u001b[0m\u001b[0mbarplot\u001b[0m\u001b[1;33m(\u001b[0m\u001b[0mx\u001b[0m\u001b[1;33m=\u001b[0m\u001b[1;34m\"Number Of Laureates\"\u001b[0m\u001b[1;33m,\u001b[0m \u001b[0my\u001b[0m\u001b[1;33m=\u001b[0m\u001b[1;34m\"Category\"\u001b[0m\u001b[1;33m,\u001b[0m\u001b[0mhue\u001b[0m\u001b[1;33m=\u001b[0m\u001b[1;34m\"Country\"\u001b[0m\u001b[1;33m,\u001b[0m \u001b[0mdata\u001b[0m\u001b[1;33m=\u001b[0m\u001b[0mall_top5\u001b[0m\u001b[1;33m)\u001b[0m\u001b[1;33m\u001b[0m\u001b[1;33m\u001b[0m\u001b[0m\n\u001b[0m\u001b[0;32m      2\u001b[0m \u001b[1;31m#ax.set_xticklabels(all_top5[\"country\"],rotation=30)\u001b[0m\u001b[1;33m\u001b[0m\u001b[1;33m\u001b[0m\u001b[1;33m\u001b[0m\u001b[0m\n\u001b[0;32m      3\u001b[0m \u001b[0max\u001b[0m\u001b[1;33m.\u001b[0m\u001b[0mset_title\u001b[0m\u001b[1;33m(\u001b[0m\u001b[1;34m\"Top 5 Number of Laureates of Each Nobel Prize Category by Country\"\u001b[0m\u001b[1;33m)\u001b[0m\u001b[1;33m\u001b[0m\u001b[1;33m\u001b[0m\u001b[0m\n\u001b[0;32m      4\u001b[0m \u001b[0max\u001b[0m\u001b[1;33m.\u001b[0m\u001b[0msavefig\u001b[0m\u001b[1;33m(\u001b[0m\u001b[1;34m\"top5LaureatesByCountry.png\"\u001b[0m\u001b[1;33m)\u001b[0m\u001b[1;33m\u001b[0m\u001b[1;33m\u001b[0m\u001b[0m\n",
      "\u001b[1;31mTypeError\u001b[0m: cannot unpack non-iterable AxesSubplot object"
     ]
    },
    {
     "data": {
      "image/png": "[encoded data removed]",
      "text/plain": [
       "<Figure size 1440x1440 with 1 Axes>"
      ]
     },
     "metadata": {},
     "output_type": "display_data"
    }
   ],
   "source": [
    "ax = sns.barplot(x=\"Number Of Laureates\", y=\"Category\",hue=\"Country\", data=all_top5)\n",
    "#ax.set_xticklabels(all_top5[\"country\"],rotation=30)\n",
    "ax.set_title(\"Top 5 Number of Laureates of Each Nobel Prize Category by Country\")\n",
    "ax.savefig(\"top5LaureatesByCountry.png\")"
   ]
  },
  {
   "cell_type": "markdown",
   "metadata": {},
   "source": [
    "## Literature Split"
   ]
  },
  {
   "cell_type": "code",
   "execution_count": 78,
   "metadata": {},
   "outputs": [
    {
     "data": {
      "text/html": [
       "<div>\n",
       "<style scoped>\n",
       "    .dataframe tbody tr th:only-of-type {\n",
       "        vertical-align: middle;\n",
       "    }\n",
       "\n",
       "    .dataframe tbody tr th {\n",
       "        vertical-align: top;\n",
       "    }\n",
       "\n",
       "    .dataframe thead th {\n",
       "        text-align: right;\n",
       "    }\n",
       "</style>\n",
       "<table border=\"1\" class=\"dataframe\">\n",
       "  <thead>\n",
       "    <tr style=\"text-align: right;\">\n",
       "      <th></th>\n",
       "      <th>Unnamed: 0</th>\n",
       "      <th>year</th>\n",
       "      <th>name</th>\n",
       "      <th>country</th>\n",
       "      <th>language</th>\n",
       "      <th>citation</th>\n",
       "      <th>genre</th>\n",
       "    </tr>\n",
       "  </thead>\n",
       "  <tbody>\n",
       "    <tr>\n",
       "      <th>0</th>\n",
       "      <td>0</td>\n",
       "      <td>1901</td>\n",
       "      <td>Sully Prudhomme</td>\n",
       "      <td>France</td>\n",
       "      <td>French</td>\n",
       "      <td>\"in special recognition of his poetic composit...</td>\n",
       "      <td>poetry, essay</td>\n",
       "    </tr>\n",
       "    <tr>\n",
       "      <th>1</th>\n",
       "      <td>1</td>\n",
       "      <td>1902</td>\n",
       "      <td>Theodor Mommsen</td>\n",
       "      <td>Germany</td>\n",
       "      <td>German</td>\n",
       "      <td>\"the greatest living master of the art of hist...</td>\n",
       "      <td>history, law</td>\n",
       "    </tr>\n",
       "    <tr>\n",
       "      <th>2</th>\n",
       "      <td>2</td>\n",
       "      <td>1903</td>\n",
       "      <td>Bjørnstjerne Bjørnson</td>\n",
       "      <td>Norway</td>\n",
       "      <td>Norwegian</td>\n",
       "      <td>\"as a tribute to his noble, magnificent and ve...</td>\n",
       "      <td>poetry, novel, drama</td>\n",
       "    </tr>\n",
       "    <tr>\n",
       "      <th>3</th>\n",
       "      <td>3</td>\n",
       "      <td>1904</td>\n",
       "      <td>Frédéric Mistral</td>\n",
       "      <td>France</td>\n",
       "      <td>Provençal</td>\n",
       "      <td>\"in recognition of the fresh originality and t...</td>\n",
       "      <td>poetry, philology</td>\n",
       "    </tr>\n",
       "    <tr>\n",
       "      <th>4</th>\n",
       "      <td>4</td>\n",
       "      <td>1904</td>\n",
       "      <td>José Echegaray</td>\n",
       "      <td>Spain</td>\n",
       "      <td>Spanish</td>\n",
       "      <td>\"in recognition of the numerous and brilliant ...</td>\n",
       "      <td>drama</td>\n",
       "    </tr>\n",
       "  </tbody>\n",
       "</table>\n",
       "</div>"
      ],
      "text/plain": [
       "   Unnamed: 0  year                   name  country   language  \\\n",
       "0           0  1901        Sully Prudhomme   France     French   \n",
       "1           1  1902        Theodor Mommsen  Germany     German   \n",
       "2           2  1903  Bjørnstjerne Bjørnson   Norway  Norwegian   \n",
       "3           3  1904       Frédéric Mistral   France  Provençal   \n",
       "4           4  1904         José Echegaray    Spain    Spanish   \n",
       "\n",
       "                                            citation                 genre  \n",
       "0  \"in special recognition of his poetic composit...         poetry, essay  \n",
       "1  \"the greatest living master of the art of hist...          history, law  \n",
       "2  \"as a tribute to his noble, magnificent and ve...  poetry, novel, drama  \n",
       "3  \"in recognition of the fresh originality and t...     poetry, philology  \n",
       "4  \"in recognition of the numerous and brilliant ...                 drama  "
      ]
     },
     "execution_count": 78,
     "metadata": {},
     "output_type": "execute_result"
    }
   ],
   "source": [
    "literature.head()"
   ]
  },
  {
   "cell_type": "code",
   "execution_count": 79,
   "metadata": {},
   "outputs": [
    {
     "name": "stdout",
     "output_type": "stream",
     "text": [
      "poetry, essay\n",
      "history, law\n",
      "poetry, novel, drama\n",
      "poetry, philology\n",
      "drama\n",
      "novel\n",
      "poetry\n",
      "novel, short story, poetry\n",
      "philosophy\n",
      "novel, short story\n",
      "poetry, drama, novel, short story\n",
      "drama, poetry, essay\n",
      "drama, novel\n",
      "poetry, novel, drama, short story, music, essay, philosophy, literary criticism, translation\n",
      "nan\n",
      "novel\n",
      "poetry, novel\n",
      "poetry\n",
      "novel\n",
      "nan\n",
      "poetry\n",
      "novel\n",
      "novel, poetry\n",
      "drama\n",
      "poetry\n",
      "novel\n",
      "drama, literary criticism\n",
      "poetry, novel\n",
      "philosophy\n",
      "novel\n",
      "novel, short story, essay\n",
      "novel, short story, drama\n",
      "poetry\n",
      "novel\n",
      "short story, poetry, novel\n",
      "drama, novel, short story\n",
      "nan\n",
      "drama\n",
      "novel\n",
      "novel, biography\n",
      "novel\n",
      "nan\n",
      "nan\n",
      "nan\n",
      "nan\n",
      "novel, short story\n",
      "poetry\n",
      "novel, poetry\n",
      "novel, essay\n",
      "poetry\n",
      "novel, short story\n",
      "philosophy\n",
      "poetry, novel, short story, drama\n",
      "novel, short story\n",
      "history, essay, memoirs\n",
      "novel, short story, screenplay\n",
      "novel, short story, drama, poetry\n",
      "poetry\n",
      "novel, short story, drama, philosophy, essay\n",
      "novel, poetry, translation\n",
      "poetry\n",
      "poetry\n",
      "novel, short story\n",
      "novel, short story, screenplay\n",
      "poetry, essay, memoirs\n",
      "novel, short story, philosophy, drama, literary criticism, screenplay\n",
      "novel\n",
      "novel, short story\n",
      "poetry, drama\n",
      "novel, poetry\n",
      "novel, short story\n",
      "novel, drama, poetry\n",
      "novel\n",
      "poetry\n",
      "novel, short story\n",
      "novel, short story, drama\n",
      "novel\n",
      "poetry, novel, drama\n",
      "poetry\n",
      "novel, short story\n",
      "poetry\n",
      "novel, short story, memoirs\n",
      "poetry, essay\n",
      "poetry, essay\n",
      "novel, drama, memoirs, essay\n",
      "novel, short story, screenplay\n",
      "novel, poetry, drama\n",
      "poetry\n",
      "novel\n",
      "drama, novel, poetry\n",
      "poetry, essay\n",
      "novel\n",
      "novel, short story\n",
      "poetry, essay\n",
      "novel, short story, essay\n",
      "poetry, drama\n",
      "novel\n",
      "novel, short story\n",
      "poetry\n",
      "poetry\n",
      "drama\n",
      "novel, drama, poetry\n",
      "novel, drama, poetry\n",
      "novel, drama, literary criticism\n",
      "novel, essay\n",
      "novel\n",
      "novel, essay, translation\n",
      "novel, drama\n",
      "drama, screenplay\n",
      "novel, screenplay, essay\n",
      "novel, drama, poetry, short story, memoirs\n",
      "novel, short story, essay, translation\n",
      "novel, poetry\n",
      "novel, short story, essay, drama, memoirs\n",
      "poetry, translation\n",
      "novel, short story\n",
      "short story\n",
      "novel\n",
      "history, essay\n",
      "poetry, songwriting\n",
      "novel\n",
      "nan\n"
     ]
    }
   ],
   "source": [
    "genreList = []\n",
    "for genre in literature[\"genre\"]:\n",
    "    print(genre)\n",
    "    if isinstance(genre,str):\n",
    "        genre = genre.split(',')\n",
    "        genre = [x.rstrip() for x in genre]\n",
    "    genreList.append(genre)"
   ]
  },
  {
   "cell_type": "code",
   "execution_count": 80,
   "metadata": {},
   "outputs": [
    {
     "data": {
      "text/plain": [
       "array(['French', 'German', 'Norwegian', 'Provençal', 'Spanish', 'Polish',\n",
       "       'Italian', 'English', 'Swedish', 'Bengali and English', nan,\n",
       "       'Danish', 'Russian', 'Finnish', 'Icelandic', 'Serbo-Croatian',\n",
       "       'Greek', 'Hebrew', 'Japanese', 'English and French', 'Yiddish',\n",
       "       'Czech', 'Russian and English', 'Arabic', 'Portuguese', 'Chinese',\n",
       "       'Hungarian', 'Turkish'], dtype=object)"
      ]
     },
     "execution_count": 80,
     "metadata": {},
     "output_type": "execute_result"
    }
   ],
   "source": [
    "literature[\"language\"].unique()"
   ]
  },
  {
   "cell_type": "code",
   "execution_count": 81,
   "metadata": {},
   "outputs": [],
   "source": [
    "language = literature.groupby(\"language\").count()"
   ]
  },
  {
   "cell_type": "code",
   "execution_count": 82,
   "metadata": {},
   "outputs": [
    {
     "data": {
      "text/plain": [
       "Index(['Arabic', 'Bengali and English', 'Chinese', 'Czech', 'Danish',\n",
       "       'English', 'English and French', 'Finnish', 'French', 'German', 'Greek',\n",
       "       'Hebrew', 'Hungarian', 'Icelandic', 'Italian', 'Japanese', 'Norwegian',\n",
       "       'Polish', 'Portuguese', 'Provençal', 'Russian', 'Russian and English',\n",
       "       'Serbo-Croatian', 'Spanish', 'Swedish', 'Turkish', 'Yiddish'],\n",
       "      dtype='object', name='language')"
      ]
     },
     "execution_count": 82,
     "metadata": {},
     "output_type": "execute_result"
    }
   ],
   "source": [
    "language.index"
   ]
  },
  {
   "cell_type": "code",
   "execution_count": 83,
   "metadata": {},
   "outputs": [],
   "source": [
    "language.columns = [\"Number of Winners\",\"year\",\"name\",\"country\",\"citation\",\"genre\"]"
   ]
  },
  {
   "cell_type": "code",
   "execution_count": 84,
   "metadata": {},
   "outputs": [],
   "source": [
    "language.sort_values(by=\"Number of Winners\",ascending=False,inplace=True)"
   ]
  },
  {
   "cell_type": "code",
   "execution_count": 85,
   "metadata": {},
   "outputs": [
    {
     "data": {
      "text/plain": [
       "Text(0.5, 1.0, 'The Language of Nobel Prize Laureates')"
      ]
     },
     "execution_count": 85,
     "metadata": {},
     "output_type": "execute_result"
    },
    {
     "data": {
      "image/png": "[encoded data removed]",
      "text/plain": [
       "<Figure size 1440x1440 with 1 Axes>"
      ]
     },
     "metadata": {},
     "output_type": "display_data"
    }
   ],
   "source": [
    "ax = sns.barplot(x=\"year\",y=language.index,data=language.sort_values(by=\"year\",ascending=False))\n",
    "#ax.set_xticklabels(all_top5[\"country\"],rotation=30)\n",
    "ax.set_title(\"The Language of Nobel Prize Laureates\")"
   ]
  },
  {
   "cell_type": "code",
   "execution_count": null,
   "metadata": {},
   "outputs": [],
   "source": []
  }
 ],
 "metadata": {
  "kernelspec": {
   "display_name": "Python 3",
   "language": "python",
   "name": "python3"
  },
  "language_info": {
   "codemirror_mode": {
    "name": "ipython",
    "version": 3
   },
   "file_extension": ".py",
   "mimetype": "text/x-python",
   "name": "python",
   "nbconvert_exporter": "python",
   "pygments_lexer": "ipython3",
   "version": "3.7.1"
  }
 },
 "nbformat": 4,
 "nbformat_minor": 2
}
