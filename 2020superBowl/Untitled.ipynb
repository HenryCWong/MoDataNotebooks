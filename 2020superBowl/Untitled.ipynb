{
 "cells": [
  {
   "cell_type": "code",
   "execution_count": 1,
   "metadata": {},
   "outputs": [],
   "source": [
    "import pandas as pd\n",
    "import seaborn as sns\n",
    "import matplotlib.pyplot as plt\n",
    "from datetime import datetime\n",
    "sns.set()"
   ]
  },
  {
   "cell_type": "code",
   "execution_count": 2,
   "metadata": {},
   "outputs": [],
   "source": [
    "df = pd.read_csv(\"nfl-elo/nfl_elo_latest.csv\")"
   ]
  },
  {
   "cell_type": "code",
   "execution_count": 3,
   "metadata": {},
   "outputs": [
    {
     "data": {
      "text/html": [
       "<div>\n",
       "<style scoped>\n",
       "    .dataframe tbody tr th:only-of-type {\n",
       "        vertical-align: middle;\n",
       "    }\n",
       "\n",
       "    .dataframe tbody tr th {\n",
       "        vertical-align: top;\n",
       "    }\n",
       "\n",
       "    .dataframe thead th {\n",
       "        text-align: right;\n",
       "    }\n",
       "</style>\n",
       "<table border=\"1\" class=\"dataframe\">\n",
       "  <thead>\n",
       "    <tr style=\"text-align: right;\">\n",
       "      <th></th>\n",
       "      <th>date</th>\n",
       "      <th>season</th>\n",
       "      <th>neutral</th>\n",
       "      <th>playoff</th>\n",
       "      <th>team1</th>\n",
       "      <th>team2</th>\n",
       "      <th>elo1_pre</th>\n",
       "      <th>elo2_pre</th>\n",
       "      <th>elo_prob1</th>\n",
       "      <th>elo_prob2</th>\n",
       "      <th>...</th>\n",
       "      <th>qbelo_prob1</th>\n",
       "      <th>qbelo_prob2</th>\n",
       "      <th>qb1_game_value</th>\n",
       "      <th>qb2_game_value</th>\n",
       "      <th>qb1_value_post</th>\n",
       "      <th>qb2_value_post</th>\n",
       "      <th>qbelo1_post</th>\n",
       "      <th>qbelo2_post</th>\n",
       "      <th>score1</th>\n",
       "      <th>score2</th>\n",
       "    </tr>\n",
       "  </thead>\n",
       "  <tbody>\n",
       "    <tr>\n",
       "      <th>0</th>\n",
       "      <td>9/5/2019</td>\n",
       "      <td>2019</td>\n",
       "      <td>0</td>\n",
       "      <td>NaN</td>\n",
       "      <td>CHI</td>\n",
       "      <td>GB</td>\n",
       "      <td>1588.897931</td>\n",
       "      <td>1455.131370</td>\n",
       "      <td>0.758449</td>\n",
       "      <td>0.241551</td>\n",
       "      <td>...</td>\n",
       "      <td>0.640182</td>\n",
       "      <td>0.359818</td>\n",
       "      <td>-36.627083</td>\n",
       "      <td>74.729307</td>\n",
       "      <td>153.799734</td>\n",
       "      <td>179.824881</td>\n",
       "      <td>1532.560287</td>\n",
       "      <td>1547.089310</td>\n",
       "      <td>3.0</td>\n",
       "      <td>10.0</td>\n",
       "    </tr>\n",
       "    <tr>\n",
       "      <th>1</th>\n",
       "      <td>9/8/2019</td>\n",
       "      <td>2019</td>\n",
       "      <td>0</td>\n",
       "      <td>NaN</td>\n",
       "      <td>JAX</td>\n",
       "      <td>KC</td>\n",
       "      <td>1455.249073</td>\n",
       "      <td>1602.077427</td>\n",
       "      <td>0.384370</td>\n",
       "      <td>0.615630</td>\n",
       "      <td>...</td>\n",
       "      <td>0.415645</td>\n",
       "      <td>0.584355</td>\n",
       "      <td>88.354740</td>\n",
       "      <td>433.187480</td>\n",
       "      <td>163.488868</td>\n",
       "      <td>242.949378</td>\n",
       "      <td>1461.728341</td>\n",
       "      <td>1629.568396</td>\n",
       "      <td>26.0</td>\n",
       "      <td>40.0</td>\n",
       "    </tr>\n",
       "    <tr>\n",
       "      <th>2</th>\n",
       "      <td>9/8/2019</td>\n",
       "      <td>2019</td>\n",
       "      <td>0</td>\n",
       "      <td>NaN</td>\n",
       "      <td>CAR</td>\n",
       "      <td>LAR</td>\n",
       "      <td>1519.378772</td>\n",
       "      <td>1598.015666</td>\n",
       "      <td>0.480385</td>\n",
       "      <td>0.519615</td>\n",
       "      <td>...</td>\n",
       "      <td>0.475030</td>\n",
       "      <td>0.524970</td>\n",
       "      <td>49.375757</td>\n",
       "      <td>64.164228</td>\n",
       "      <td>164.522141</td>\n",
       "      <td>145.308064</td>\n",
       "      <td>1500.520997</td>\n",
       "      <td>1603.294491</td>\n",
       "      <td>27.0</td>\n",
       "      <td>30.0</td>\n",
       "    </tr>\n",
       "    <tr>\n",
       "      <th>3</th>\n",
       "      <td>9/8/2019</td>\n",
       "      <td>2019</td>\n",
       "      <td>0</td>\n",
       "      <td>NaN</td>\n",
       "      <td>MIN</td>\n",
       "      <td>ATL</td>\n",
       "      <td>1538.423954</td>\n",
       "      <td>1520.315825</td>\n",
       "      <td>0.617372</td>\n",
       "      <td>0.382628</td>\n",
       "      <td>...</td>\n",
       "      <td>0.592845</td>\n",
       "      <td>0.407155</td>\n",
       "      <td>127.861581</td>\n",
       "      <td>210.622686</td>\n",
       "      <td>170.578796</td>\n",
       "      <td>228.546720</td>\n",
       "      <td>1562.098920</td>\n",
       "      <td>1500.092161</td>\n",
       "      <td>28.0</td>\n",
       "      <td>12.0</td>\n",
       "    </tr>\n",
       "    <tr>\n",
       "      <th>4</th>\n",
       "      <td>9/8/2019</td>\n",
       "      <td>2019</td>\n",
       "      <td>0</td>\n",
       "      <td>NaN</td>\n",
       "      <td>MIA</td>\n",
       "      <td>BAL</td>\n",
       "      <td>1415.178762</td>\n",
       "      <td>1570.539249</td>\n",
       "      <td>0.372816</td>\n",
       "      <td>0.627184</td>\n",
       "      <td>...</td>\n",
       "      <td>0.387250</td>\n",
       "      <td>0.612750</td>\n",
       "      <td>21.076863</td>\n",
       "      <td>422.479782</td>\n",
       "      <td>146.838364</td>\n",
       "      <td>152.862017</td>\n",
       "      <td>1346.716851</td>\n",
       "      <td>1565.711613</td>\n",
       "      <td>10.0</td>\n",
       "      <td>59.0</td>\n",
       "    </tr>\n",
       "  </tbody>\n",
       "</table>\n",
       "<p>5 rows × 30 columns</p>\n",
       "</div>"
      ],
      "text/plain": [
       "       date  season  neutral playoff team1 team2     elo1_pre     elo2_pre  \\\n",
       "0  9/5/2019    2019        0     NaN   CHI    GB  1588.897931  1455.131370   \n",
       "1  9/8/2019    2019        0     NaN   JAX    KC  1455.249073  1602.077427   \n",
       "2  9/8/2019    2019        0     NaN   CAR   LAR  1519.378772  1598.015666   \n",
       "3  9/8/2019    2019        0     NaN   MIN   ATL  1538.423954  1520.315825   \n",
       "4  9/8/2019    2019        0     NaN   MIA   BAL  1415.178762  1570.539249   \n",
       "\n",
       "   elo_prob1  elo_prob2   ...    qbelo_prob1  qbelo_prob2  qb1_game_value  \\\n",
       "0   0.758449   0.241551   ...       0.640182     0.359818      -36.627083   \n",
       "1   0.384370   0.615630   ...       0.415645     0.584355       88.354740   \n",
       "2   0.480385   0.519615   ...       0.475030     0.524970       49.375757   \n",
       "3   0.617372   0.382628   ...       0.592845     0.407155      127.861581   \n",
       "4   0.372816   0.627184   ...       0.387250     0.612750       21.076863   \n",
       "\n",
       "   qb2_game_value qb1_value_post qb2_value_post  qbelo1_post  qbelo2_post  \\\n",
       "0       74.729307     153.799734     179.824881  1532.560287  1547.089310   \n",
       "1      433.187480     163.488868     242.949378  1461.728341  1629.568396   \n",
       "2       64.164228     164.522141     145.308064  1500.520997  1603.294491   \n",
       "3      210.622686     170.578796     228.546720  1562.098920  1500.092161   \n",
       "4      422.479782     146.838364     152.862017  1346.716851  1565.711613   \n",
       "\n",
       "   score1  score2  \n",
       "0     3.0    10.0  \n",
       "1    26.0    40.0  \n",
       "2    27.0    30.0  \n",
       "3    28.0    12.0  \n",
       "4    10.0    59.0  \n",
       "\n",
       "[5 rows x 30 columns]"
      ]
     },
     "execution_count": 3,
     "metadata": {},
     "output_type": "execute_result"
    }
   ],
   "source": [
    "df.head()"
   ]
  },
  {
   "cell_type": "markdown",
   "metadata": {},
   "source": [
    "## Mahomes"
   ]
  },
  {
   "cell_type": "markdown",
   "metadata": {},
   "source": [
    "Mahomes = df.loc[(df[\"qb1\"] == \"Patrick Mahomes\") | (df[\"qb2\"] == \"Patrick Mahomes\")]"
   ]
  },
  {
   "cell_type": "code",
   "execution_count": 4,
   "metadata": {},
   "outputs": [],
   "source": [
    "Mahomes1 = df.loc[df[\"qb1\"] == \"Patrick Mahomes\"]\n",
    "Mahomes2 = df.loc[df[\"qb2\"] == \"Patrick Mahomes\"]"
   ]
  },
  {
   "cell_type": "code",
   "execution_count": 5,
   "metadata": {},
   "outputs": [
    {
     "data": {
      "text/plain": [
       "37     416.952636\n",
       "76     136.977356\n",
       "85     168.827079\n",
       "188    154.611932\n",
       "211    278.961303\n",
       "243    131.774178\n",
       "262    438.446626\n",
       "264    401.937351\n",
       "266           NaN\n",
       "Name: qb1_game_value, dtype: float64"
      ]
     },
     "execution_count": 5,
     "metadata": {},
     "output_type": "execute_result"
    }
   ],
   "source": [
    "Mahomes1[\"qb1_game_value\"]"
   ]
  },
  {
   "cell_type": "code",
   "execution_count": 6,
   "metadata": {},
   "outputs": [
    {
     "data": {
      "text/plain": [
       "1       88.354740\n",
       "27      31.103294\n",
       "56     243.742491\n",
       "92     -65.195637\n",
       "136    171.385811\n",
       "161     -5.187189\n",
       "205     37.476330\n",
       "238     41.313655\n",
       "Name: qb1_game_value, dtype: float64"
      ]
     },
     "execution_count": 6,
     "metadata": {},
     "output_type": "execute_result"
    }
   ],
   "source": [
    "Mahomes2[\"qb1_game_value\"]"
   ]
  },
  {
   "cell_type": "code",
   "execution_count": 7,
   "metadata": {},
   "outputs": [],
   "source": [
    "mahomesQbScore1 = Mahomes1[[\"date\",\"qb1_value_pre\",\"qb1_value_post\",\"qb1_game_value\",\"qbelo_prob1\",\"qbelo1_post\"]]\n",
    "mahomesQbScore2 = Mahomes2[[\"date\",\"qb2_value_pre\",\"qb2_value_post\",\"qb2_game_value\",\"qbelo_prob2\",\"qbelo2_post\"]]\n",
    "mahomesQbScore1.columns = [\"date\",\"qb_value_pre\",\"qb_value_post\",\"qb_game_value\",\"qbelo_prob\",\"qbelo_post\"]\n",
    "mahomesQbScore2.columns = [\"date\",\"qb_value_pre\",\"qb_value_post\",\"qb_game_value\",\"qbelo_prob\",\"qbelo_post\"]"
   ]
  },
  {
   "cell_type": "code",
   "execution_count": 8,
   "metadata": {},
   "outputs": [],
   "source": [
    "mahomesQbScore = pd.concat([mahomesQbScore1,mahomesQbScore2],sort=False).sort_values(\"date\")"
   ]
  },
  {
   "cell_type": "code",
   "execution_count": 9,
   "metadata": {},
   "outputs": [
    {
     "data": {
      "text/html": [
       "<div>\n",
       "<style scoped>\n",
       "    .dataframe tbody tr th:only-of-type {\n",
       "        vertical-align: middle;\n",
       "    }\n",
       "\n",
       "    .dataframe tbody tr th {\n",
       "        vertical-align: top;\n",
       "    }\n",
       "\n",
       "    .dataframe thead th {\n",
       "        text-align: right;\n",
       "    }\n",
       "</style>\n",
       "<table border=\"1\" class=\"dataframe\">\n",
       "  <thead>\n",
       "    <tr style=\"text-align: right;\">\n",
       "      <th></th>\n",
       "      <th>date</th>\n",
       "      <th>qb_value_pre</th>\n",
       "      <th>qb_value_post</th>\n",
       "      <th>qb_game_value</th>\n",
       "      <th>qbelo_prob</th>\n",
       "      <th>qbelo_post</th>\n",
       "    </tr>\n",
       "  </thead>\n",
       "  <tbody>\n",
       "    <tr>\n",
       "      <th>262</th>\n",
       "      <td>1/12/2020</td>\n",
       "      <td>245.735426</td>\n",
       "      <td>265.006546</td>\n",
       "      <td>438.446626</td>\n",
       "      <td>0.826138</td>\n",
       "      <td>1703.995494</td>\n",
       "    </tr>\n",
       "    <tr>\n",
       "      <th>264</th>\n",
       "      <td>1/19/2020</td>\n",
       "      <td>265.006546</td>\n",
       "      <td>278.699627</td>\n",
       "      <td>401.937351</td>\n",
       "      <td>0.693796</td>\n",
       "      <td>1718.290032</td>\n",
       "    </tr>\n",
       "    <tr>\n",
       "      <th>85</th>\n",
       "      <td>10/13/2019</td>\n",
       "      <td>262.953471</td>\n",
       "      <td>253.540832</td>\n",
       "      <td>168.827079</td>\n",
       "      <td>0.701878</td>\n",
       "      <td>1599.073256</td>\n",
       "    </tr>\n",
       "    <tr>\n",
       "      <th>92</th>\n",
       "      <td>10/17/2019</td>\n",
       "      <td>253.540832</td>\n",
       "      <td>244.117918</td>\n",
       "      <td>159.311692</td>\n",
       "      <td>0.635070</td>\n",
       "      <td>1621.581832</td>\n",
       "    </tr>\n",
       "    <tr>\n",
       "      <th>76</th>\n",
       "      <td>10/6/2019</td>\n",
       "      <td>276.950817</td>\n",
       "      <td>262.953471</td>\n",
       "      <td>136.977356</td>\n",
       "      <td>0.823315</td>\n",
       "      <td>1630.380277</td>\n",
       "    </tr>\n",
       "  </tbody>\n",
       "</table>\n",
       "</div>"
      ],
      "text/plain": [
       "           date  qb_value_pre  qb_value_post  qb_game_value  qbelo_prob  \\\n",
       "262   1/12/2020    245.735426     265.006546     438.446626    0.826138   \n",
       "264   1/19/2020    265.006546     278.699627     401.937351    0.693796   \n",
       "85   10/13/2019    262.953471     253.540832     168.827079    0.701878   \n",
       "92   10/17/2019    253.540832     244.117918     159.311692    0.635070   \n",
       "76    10/6/2019    276.950817     262.953471     136.977356    0.823315   \n",
       "\n",
       "      qbelo_post  \n",
       "262  1703.995494  \n",
       "264  1718.290032  \n",
       "85   1599.073256  \n",
       "92   1621.581832  \n",
       "76   1630.380277  "
      ]
     },
     "execution_count": 9,
     "metadata": {},
     "output_type": "execute_result"
    }
   ],
   "source": [
    "mahomesQbScore.head()"
   ]
  },
  {
   "cell_type": "markdown",
   "metadata": {},
   "source": [
    "## Garoppolo"
   ]
  },
  {
   "cell_type": "code",
   "execution_count": 10,
   "metadata": {},
   "outputs": [],
   "source": [
    "Garoppolo = df.loc[(df[\"qb1\"] == \"Jimmy Garoppolo\") | (df[\"qb2\"] == \"Jimmy Garoppolo\")]"
   ]
  },
  {
   "cell_type": "code",
   "execution_count": 11,
   "metadata": {},
   "outputs": [
    {
     "data": {
      "text/html": [
       "<div>\n",
       "<style scoped>\n",
       "    .dataframe tbody tr th:only-of-type {\n",
       "        vertical-align: middle;\n",
       "    }\n",
       "\n",
       "    .dataframe tbody tr th {\n",
       "        vertical-align: top;\n",
       "    }\n",
       "\n",
       "    .dataframe thead th {\n",
       "        text-align: right;\n",
       "    }\n",
       "</style>\n",
       "<table border=\"1\" class=\"dataframe\">\n",
       "  <thead>\n",
       "    <tr style=\"text-align: right;\">\n",
       "      <th></th>\n",
       "      <th>date</th>\n",
       "      <th>season</th>\n",
       "      <th>neutral</th>\n",
       "      <th>playoff</th>\n",
       "      <th>team1</th>\n",
       "      <th>team2</th>\n",
       "      <th>elo1_pre</th>\n",
       "      <th>elo2_pre</th>\n",
       "      <th>elo_prob1</th>\n",
       "      <th>elo_prob2</th>\n",
       "      <th>...</th>\n",
       "      <th>qbelo_prob1</th>\n",
       "      <th>qbelo_prob2</th>\n",
       "      <th>qb1_game_value</th>\n",
       "      <th>qb2_game_value</th>\n",
       "      <th>qb1_value_post</th>\n",
       "      <th>qb2_value_post</th>\n",
       "      <th>qbelo1_post</th>\n",
       "      <th>qbelo2_post</th>\n",
       "      <th>score1</th>\n",
       "      <th>score2</th>\n",
       "    </tr>\n",
       "  </thead>\n",
       "  <tbody>\n",
       "    <tr>\n",
       "      <th>10</th>\n",
       "      <td>9/8/2019</td>\n",
       "      <td>2019</td>\n",
       "      <td>0</td>\n",
       "      <td>NaN</td>\n",
       "      <td>TB</td>\n",
       "      <td>SF</td>\n",
       "      <td>1444.772669</td>\n",
       "      <td>1422.631825</td>\n",
       "      <td>0.622841</td>\n",
       "      <td>0.377159</td>\n",
       "      <td>...</td>\n",
       "      <td>0.545569</td>\n",
       "      <td>0.454431</td>\n",
       "      <td>-75.782122</td>\n",
       "      <td>68.893159</td>\n",
       "      <td>145.944115</td>\n",
       "      <td>134.650411</td>\n",
       "      <td>1413.887149</td>\n",
       "      <td>1508.870560</td>\n",
       "      <td>17.0</td>\n",
       "      <td>31.0</td>\n",
       "    </tr>\n",
       "    <tr>\n",
       "      <th>24</th>\n",
       "      <td>9/15/2019</td>\n",
       "      <td>2019</td>\n",
       "      <td>0</td>\n",
       "      <td>NaN</td>\n",
       "      <td>CIN</td>\n",
       "      <td>SF</td>\n",
       "      <td>1425.507827</td>\n",
       "      <td>1457.756782</td>\n",
       "      <td>0.546993</td>\n",
       "      <td>0.453007</td>\n",
       "      <td>...</td>\n",
       "      <td>0.466439</td>\n",
       "      <td>0.533561</td>\n",
       "      <td>135.873275</td>\n",
       "      <td>277.101753</td>\n",
       "      <td>139.900640</td>\n",
       "      <td>148.895545</td>\n",
       "      <td>1382.110291</td>\n",
       "      <td>1538.583339</td>\n",
       "      <td>17.0</td>\n",
       "      <td>41.0</td>\n",
       "    </tr>\n",
       "    <tr>\n",
       "      <th>44</th>\n",
       "      <td>9/22/2019</td>\n",
       "      <td>2019</td>\n",
       "      <td>0</td>\n",
       "      <td>NaN</td>\n",
       "      <td>SF</td>\n",
       "      <td>PIT</td>\n",
       "      <td>1493.503009</td>\n",
       "      <td>1538.911743</td>\n",
       "      <td>0.528164</td>\n",
       "      <td>0.471836</td>\n",
       "      <td>...</td>\n",
       "      <td>0.786794</td>\n",
       "      <td>0.213206</td>\n",
       "      <td>121.493001</td>\n",
       "      <td>80.205903</td>\n",
       "      <td>146.155291</td>\n",
       "      <td>79.026162</td>\n",
       "      <td>1544.804736</td>\n",
       "      <td>1516.924959</td>\n",
       "      <td>24.0</td>\n",
       "      <td>20.0</td>\n",
       "    </tr>\n",
       "    <tr>\n",
       "      <th>77</th>\n",
       "      <td>10/7/2019</td>\n",
       "      <td>2019</td>\n",
       "      <td>0</td>\n",
       "      <td>NaN</td>\n",
       "      <td>SF</td>\n",
       "      <td>CLE</td>\n",
       "      <td>1508.556760</td>\n",
       "      <td>1488.359751</td>\n",
       "      <td>0.620209</td>\n",
       "      <td>0.379791</td>\n",
       "      <td>...</td>\n",
       "      <td>0.632157</td>\n",
       "      <td>0.367843</td>\n",
       "      <td>154.530466</td>\n",
       "      <td>-190.808101</td>\n",
       "      <td>146.992808</td>\n",
       "      <td>107.985857</td>\n",
       "      <td>1568.561683</td>\n",
       "      <td>1500.450003</td>\n",
       "      <td>31.0</td>\n",
       "      <td>3.0</td>\n",
       "    </tr>\n",
       "    <tr>\n",
       "      <th>87</th>\n",
       "      <td>10/13/2019</td>\n",
       "      <td>2019</td>\n",
       "      <td>0</td>\n",
       "      <td>NaN</td>\n",
       "      <td>LAR</td>\n",
       "      <td>SF</td>\n",
       "      <td>1589.309361</td>\n",
       "      <td>1533.180585</td>\n",
       "      <td>0.667583</td>\n",
       "      <td>0.332417</td>\n",
       "      <td>...</td>\n",
       "      <td>0.616576</td>\n",
       "      <td>0.383424</td>\n",
       "      <td>-51.941405</td>\n",
       "      <td>158.957585</td>\n",
       "      <td>147.133474</td>\n",
       "      <td>148.189286</td>\n",
       "      <td>1552.113732</td>\n",
       "      <td>1602.373539</td>\n",
       "      <td>7.0</td>\n",
       "      <td>20.0</td>\n",
       "    </tr>\n",
       "  </tbody>\n",
       "</table>\n",
       "<p>5 rows × 30 columns</p>\n",
       "</div>"
      ],
      "text/plain": [
       "          date  season  neutral playoff team1 team2     elo1_pre     elo2_pre  \\\n",
       "10    9/8/2019    2019        0     NaN    TB    SF  1444.772669  1422.631825   \n",
       "24   9/15/2019    2019        0     NaN   CIN    SF  1425.507827  1457.756782   \n",
       "44   9/22/2019    2019        0     NaN    SF   PIT  1493.503009  1538.911743   \n",
       "77   10/7/2019    2019        0     NaN    SF   CLE  1508.556760  1488.359751   \n",
       "87  10/13/2019    2019        0     NaN   LAR    SF  1589.309361  1533.180585   \n",
       "\n",
       "    elo_prob1  elo_prob2   ...    qbelo_prob1  qbelo_prob2  qb1_game_value  \\\n",
       "10   0.622841   0.377159   ...       0.545569     0.454431      -75.782122   \n",
       "24   0.546993   0.453007   ...       0.466439     0.533561      135.873275   \n",
       "44   0.528164   0.471836   ...       0.786794     0.213206      121.493001   \n",
       "77   0.620209   0.379791   ...       0.632157     0.367843      154.530466   \n",
       "87   0.667583   0.332417   ...       0.616576     0.383424      -51.941405   \n",
       "\n",
       "    qb2_game_value qb1_value_post qb2_value_post  qbelo1_post  qbelo2_post  \\\n",
       "10       68.893159     145.944115     134.650411  1413.887149  1508.870560   \n",
       "24      277.101753     139.900640     148.895545  1382.110291  1538.583339   \n",
       "44       80.205903     146.155291      79.026162  1544.804736  1516.924959   \n",
       "77     -190.808101     146.992808     107.985857  1568.561683  1500.450003   \n",
       "87      158.957585     147.133474     148.189286  1552.113732  1602.373539   \n",
       "\n",
       "    score1  score2  \n",
       "10    17.0    31.0  \n",
       "24    17.0    41.0  \n",
       "44    24.0    20.0  \n",
       "77    31.0     3.0  \n",
       "87     7.0    20.0  \n",
       "\n",
       "[5 rows x 30 columns]"
      ]
     },
     "execution_count": 11,
     "metadata": {},
     "output_type": "execute_result"
    }
   ],
   "source": [
    "Garoppolo.head()"
   ]
  },
  {
   "cell_type": "code",
   "execution_count": 12,
   "metadata": {},
   "outputs": [],
   "source": [
    "Garoppolo1 = df.loc[df[\"qb1\"] == \"Jimmy Garoppolo\"]\n",
    "Garoppolo2 = df.loc[df[\"qb2\"] == \"Jimmy Garoppolo\"]"
   ]
  },
  {
   "cell_type": "code",
   "execution_count": 13,
   "metadata": {},
   "outputs": [],
   "source": [
    "garoppoloQbScore1 = Garoppolo1[[\"date\",\"qb1_value_pre\",\"qb1_value_post\",\"qb1_game_value\",\"qbelo_prob1\",\"qbelo1_post\"]]\n",
    "garoppoloQbScore2 = Garoppolo2[[\"date\",\"qb2_value_pre\",\"qb2_value_post\",\"qb2_game_value\",\"qbelo_prob2\",\"qbelo2_post\"]]\n",
    "garoppoloQbScore1.columns = [\"date\",\"qb_value_pre\",\"qb_value_post\",\"qb_game_value\",\"qbelo_prob\",\"qbelo_post\"]\n",
    "garoppoloQbScore2.columns = [\"date\",\"qb_value_pre\",\"qb_value_post\",\"qb_game_value\",\"qbelo_prob\",\"qbelo_post\"]"
   ]
  },
  {
   "cell_type": "code",
   "execution_count": 14,
   "metadata": {},
   "outputs": [],
   "source": [
    "garoppoloQbScore = pd.concat([garoppoloQbScore1,garoppoloQbScore2],sort=False).sort_values(\"date\")"
   ]
  },
  {
   "cell_type": "code",
   "execution_count": 15,
   "metadata": {},
   "outputs": [
    {
     "data": {
      "text/html": [
       "<div>\n",
       "<style scoped>\n",
       "    .dataframe tbody tr th:only-of-type {\n",
       "        vertical-align: middle;\n",
       "    }\n",
       "\n",
       "    .dataframe tbody tr th {\n",
       "        vertical-align: top;\n",
       "    }\n",
       "\n",
       "    .dataframe thead th {\n",
       "        text-align: right;\n",
       "    }\n",
       "</style>\n",
       "<table border=\"1\" class=\"dataframe\">\n",
       "  <thead>\n",
       "    <tr style=\"text-align: right;\">\n",
       "      <th></th>\n",
       "      <th>date</th>\n",
       "      <th>qb_value_pre</th>\n",
       "      <th>qb_value_post</th>\n",
       "      <th>qb_game_value</th>\n",
       "      <th>qbelo_prob</th>\n",
       "      <th>qbelo_post</th>\n",
       "    </tr>\n",
       "  </thead>\n",
       "  <tbody>\n",
       "    <tr>\n",
       "      <th>260</th>\n",
       "      <td>1/11/2020</td>\n",
       "      <td>152.401767</td>\n",
       "      <td>141.312649</td>\n",
       "      <td>41.510583</td>\n",
       "      <td>0.674369</td>\n",
       "      <td>1658.178853</td>\n",
       "    </tr>\n",
       "    <tr>\n",
       "      <th>265</th>\n",
       "      <td>1/19/2020</td>\n",
       "      <td>141.312649</td>\n",
       "      <td>132.618259</td>\n",
       "      <td>54.368746</td>\n",
       "      <td>0.638694</td>\n",
       "      <td>1678.165910</td>\n",
       "    </tr>\n",
       "    <tr>\n",
       "      <th>87</th>\n",
       "      <td>10/13/2019</td>\n",
       "      <td>146.992808</td>\n",
       "      <td>148.189286</td>\n",
       "      <td>158.957585</td>\n",
       "      <td>0.383424</td>\n",
       "      <td>1602.373539</td>\n",
       "    </tr>\n",
       "    <tr>\n",
       "      <th>99</th>\n",
       "      <td>10/20/2019</td>\n",
       "      <td>148.189286</td>\n",
       "      <td>133.814639</td>\n",
       "      <td>4.442812</td>\n",
       "      <td>0.751399</td>\n",
       "      <td>1612.902425</td>\n",
       "    </tr>\n",
       "    <tr>\n",
       "      <th>116</th>\n",
       "      <td>10/27/2019</td>\n",
       "      <td>133.814639</td>\n",
       "      <td>134.718243</td>\n",
       "      <td>142.850689</td>\n",
       "      <td>0.735571</td>\n",
       "      <td>1630.829242</td>\n",
       "    </tr>\n",
       "  </tbody>\n",
       "</table>\n",
       "</div>"
      ],
      "text/plain": [
       "           date  qb_value_pre  qb_value_post  qb_game_value  qbelo_prob  \\\n",
       "260   1/11/2020    152.401767     141.312649      41.510583    0.674369   \n",
       "265   1/19/2020    141.312649     132.618259      54.368746    0.638694   \n",
       "87   10/13/2019    146.992808     148.189286     158.957585    0.383424   \n",
       "99   10/20/2019    148.189286     133.814639       4.442812    0.751399   \n",
       "116  10/27/2019    133.814639     134.718243     142.850689    0.735571   \n",
       "\n",
       "      qbelo_post  \n",
       "260  1658.178853  \n",
       "265  1678.165910  \n",
       "87   1602.373539  \n",
       "99   1612.902425  \n",
       "116  1630.829242  "
      ]
     },
     "execution_count": 15,
     "metadata": {},
     "output_type": "execute_result"
    }
   ],
   "source": [
    "garoppoloQbScore.head()"
   ]
  },
  {
   "cell_type": "markdown",
   "metadata": {},
   "source": [
    "## Process\n",
    "\n",
    "We now have mahomesQbScore and garoppoloQbScore"
   ]
  },
  {
   "cell_type": "code",
   "execution_count": 16,
   "metadata": {},
   "outputs": [
    {
     "data": {
      "text/html": [
       "<div>\n",
       "<style scoped>\n",
       "    .dataframe tbody tr th:only-of-type {\n",
       "        vertical-align: middle;\n",
       "    }\n",
       "\n",
       "    .dataframe tbody tr th {\n",
       "        vertical-align: top;\n",
       "    }\n",
       "\n",
       "    .dataframe thead th {\n",
       "        text-align: right;\n",
       "    }\n",
       "</style>\n",
       "<table border=\"1\" class=\"dataframe\">\n",
       "  <thead>\n",
       "    <tr style=\"text-align: right;\">\n",
       "      <th></th>\n",
       "      <th>date</th>\n",
       "      <th>qb_value_pre</th>\n",
       "      <th>qb_value_post</th>\n",
       "      <th>qb_game_value</th>\n",
       "      <th>qbelo_prob</th>\n",
       "      <th>qbelo_post</th>\n",
       "    </tr>\n",
       "  </thead>\n",
       "  <tbody>\n",
       "    <tr>\n",
       "      <th>262</th>\n",
       "      <td>1/12/2020</td>\n",
       "      <td>245.735426</td>\n",
       "      <td>265.006546</td>\n",
       "      <td>438.446626</td>\n",
       "      <td>0.826138</td>\n",
       "      <td>1703.995494</td>\n",
       "    </tr>\n",
       "    <tr>\n",
       "      <th>264</th>\n",
       "      <td>1/19/2020</td>\n",
       "      <td>265.006546</td>\n",
       "      <td>278.699627</td>\n",
       "      <td>401.937351</td>\n",
       "      <td>0.693796</td>\n",
       "      <td>1718.290032</td>\n",
       "    </tr>\n",
       "    <tr>\n",
       "      <th>85</th>\n",
       "      <td>10/13/2019</td>\n",
       "      <td>262.953471</td>\n",
       "      <td>253.540832</td>\n",
       "      <td>168.827079</td>\n",
       "      <td>0.701878</td>\n",
       "      <td>1599.073256</td>\n",
       "    </tr>\n",
       "    <tr>\n",
       "      <th>92</th>\n",
       "      <td>10/17/2019</td>\n",
       "      <td>253.540832</td>\n",
       "      <td>244.117918</td>\n",
       "      <td>159.311692</td>\n",
       "      <td>0.635070</td>\n",
       "      <td>1621.581832</td>\n",
       "    </tr>\n",
       "    <tr>\n",
       "      <th>76</th>\n",
       "      <td>10/6/2019</td>\n",
       "      <td>276.950817</td>\n",
       "      <td>262.953471</td>\n",
       "      <td>136.977356</td>\n",
       "      <td>0.823315</td>\n",
       "      <td>1630.380277</td>\n",
       "    </tr>\n",
       "  </tbody>\n",
       "</table>\n",
       "</div>"
      ],
      "text/plain": [
       "           date  qb_value_pre  qb_value_post  qb_game_value  qbelo_prob  \\\n",
       "262   1/12/2020    245.735426     265.006546     438.446626    0.826138   \n",
       "264   1/19/2020    265.006546     278.699627     401.937351    0.693796   \n",
       "85   10/13/2019    262.953471     253.540832     168.827079    0.701878   \n",
       "92   10/17/2019    253.540832     244.117918     159.311692    0.635070   \n",
       "76    10/6/2019    276.950817     262.953471     136.977356    0.823315   \n",
       "\n",
       "      qbelo_post  \n",
       "262  1703.995494  \n",
       "264  1718.290032  \n",
       "85   1599.073256  \n",
       "92   1621.581832  \n",
       "76   1630.380277  "
      ]
     },
     "execution_count": 16,
     "metadata": {},
     "output_type": "execute_result"
    }
   ],
   "source": [
    "mahomesQbScore.head()"
   ]
  },
  {
   "cell_type": "code",
   "execution_count": 17,
   "metadata": {},
   "outputs": [
    {
     "data": {
      "text/plain": [
       "[Text(0, 0, '1/12/2020'),\n",
       " Text(0, 0, '1/19/2020'),\n",
       " Text(0, 0, '10/13/2019'),\n",
       " Text(0, 0, '10/17/2019'),\n",
       " Text(0, 0, '10/6/2019'),\n",
       " Text(0, 0, '11/10/2019'),\n",
       " Text(0, 0, '11/18/2019'),\n",
       " Text(0, 0, '12/1/2019'),\n",
       " Text(0, 0, '12/15/2019'),\n",
       " Text(0, 0, '12/22/2019'),\n",
       " Text(0, 0, '12/29/2019'),\n",
       " Text(0, 0, '12/8/2019'),\n",
       " Text(0, 0, '2/2/2020'),\n",
       " Text(0, 0, '9/15/2019'),\n",
       " Text(0, 0, '9/22/2019'),\n",
       " Text(0, 0, '9/29/2019')]"
      ]
     },
     "execution_count": 17,
     "metadata": {},
     "output_type": "execute_result"
    },
    {
     "data": {
      "image/png": "[encoded data removed]",
      "text/plain": [
       "<Figure size 720x360 with 1 Axes>"
      ]
     },
     "metadata": {
      "needs_background": "light"
     },
     "output_type": "display_data"
    }
   ],
   "source": [
    "plt.figure(figsize=(10,5))\n",
    "\n",
    "ax = sns.lineplot(x=\"date\", y=\"qb_game_value\", data=mahomesQbScore)\n",
    "#ax.set_xticklabels(ax.get_xticklabels(), rotation=45)\n",
    "ax.set_xticklabels(mahomesQbScore[\"date\"],rotation=90)\n",
    "\n"
   ]
  },
  {
   "cell_type": "code",
   "execution_count": 18,
   "metadata": {},
   "outputs": [
    {
     "data": {
      "text/plain": [
       "[Text(0, 0, '1/11/2020'),\n",
       " Text(0, 0, '1/19/2020'),\n",
       " Text(0, 0, '10/13/2019'),\n",
       " Text(0, 0, '10/20/2019'),\n",
       " Text(0, 0, '10/27/2019'),\n",
       " Text(0, 0, '10/31/2019'),\n",
       " Text(0, 0, '10/7/2019'),\n",
       " Text(0, 0, '11/11/2019'),\n",
       " Text(0, 0, '11/17/2019'),\n",
       " Text(0, 0, '11/24/2019'),\n",
       " Text(0, 0, '12/1/2019'),\n",
       " Text(0, 0, '12/15/2019'),\n",
       " Text(0, 0, '12/21/2019'),\n",
       " Text(0, 0, '12/29/2019'),\n",
       " Text(0, 0, '12/8/2019'),\n",
       " Text(0, 0, '2/2/2020'),\n",
       " Text(0, 0, '9/15/2019'),\n",
       " Text(0, 0, '9/22/2019')]"
      ]
     },
     "execution_count": 18,
     "metadata": {},
     "output_type": "execute_result"
    },
    {
     "data": {
      "image/png": "[encoded data removed]",
      "text/plain": [
       "<Figure size 720x360 with 1 Axes>"
      ]
     },
     "metadata": {
      "needs_background": "light"
     },
     "output_type": "display_data"
    }
   ],
   "source": [
    "plt.figure(figsize=(10,5))\n",
    "ax = sns.lineplot(x=\"date\", y=\"qb_game_value\", data=garoppoloQbScore)\n",
    "#ax.set_xticklabels(ax.get_xticklabels(), rotation=45)\n",
    "ax.set_xticklabels(garoppoloQbScore[\"date\"],rotation=90)"
   ]
  },
  {
   "cell_type": "markdown",
   "metadata": {},
   "source": [
    "## Now let's try combining them"
   ]
  },
  {
   "cell_type": "code",
   "execution_count": 19,
   "metadata": {},
   "outputs": [],
   "source": [
    "mahomesQbScore[\"player\"] = \"Patrick Mahomes\"\n",
    "garoppoloQbScore[\"player\"] = \"Jimmy Garoppolo\""
   ]
  },
  {
   "cell_type": "code",
   "execution_count": 20,
   "metadata": {},
   "outputs": [],
   "source": [
    "qbScores = pd.concat([mahomesQbScore,garoppoloQbScore])"
   ]
  },
  {
   "cell_type": "code",
   "execution_count": 24,
   "metadata": {},
   "outputs": [
    {
     "name": "stdout",
     "output_type": "stream",
     "text": [
      "8\n"
     ]
    }
   ],
   "source": [
    "a = qbScores[\"date\"][1] \n",
    "dt_obj = datetime.strptime(a, '%m/%d/%Y')\n",
    "print(dt_obj.day)"
   ]
  },
  {
   "cell_type": "code",
   "execution_count": 25,
   "metadata": {},
   "outputs": [],
   "source": [
    "def dateToGameWeek(date):\n",
    "    month = date.month\n",
    "    year = date.year\n",
    "    day = date.day\n",
    "    if month == 9 and day >= 5 and day <= 9:\n",
    "        week = 1\n",
    "    elif month == 9 and day >=12 and day <= 15:\n",
    "        week = 2\n",
    "    elif month == 9 and day >=19 and day <= 23:\n",
    "        week = 3\n",
    "    elif month == 9 and day >= 26 and day <= 30:\n",
    "        week = 4\n",
    "    elif month == 10 and day >= 2 and day <= 7:\n",
    "        week = 5\n",
    "    elif month == 10 and day >= 10 and day <= 14:\n",
    "        week = 6\n",
    "    elif month == 10 and day >= 17 and day <= 21:\n",
    "        week = 7\n",
    "    elif month == 10 and day >=24 and day <= 28:\n",
    "        week = 8\n",
    "    elif (month == 10 or month == 11) and (day == 31 or day == 3 or day == 4):\n",
    "        week = 9\n",
    "    elif month == 11 and day >= 7 and day <= 11:\n",
    "        week = 10\n",
    "    elif month == 11 and day >= 14 and day <= 18:\n",
    "        week = 11\n",
    "    elif month == 11 and day >= 21 and day <= 25:\n",
    "        week = 12\n",
    "    elif (month == 11 or month == 12) and (day == 28 or day == 1 or day == 2):\n",
    "        week = 13\n",
    "    elif month == 12 and day >= 5 and day <= 9:\n",
    "        week = 14\n",
    "    elif month == 12 and day >= 12 and day <= 15:\n",
    "        week = 15\n",
    "    elif month == 12 and day >= 21 and day <= 23:\n",
    "        week = 16\n",
    "    elif month == 12 and day == 29:\n",
    "        week = 17\n",
    "    elif month == 1 and day >= 4 and day <= 5:\n",
    "        week = 18\n",
    "    elif month == 1 and day >= 11 and day <= 12:\n",
    "        week = 19\n",
    "    elif month == 1 and day == 19:\n",
    "        week = 20\n",
    "    elif month == 2 and day == 2:\n",
    "        week = 21\n",
    "    else:\n",
    "        week = \"Error\"\n",
    "        print(date)\n",
    "    return(week)"
   ]
  },
  {
   "cell_type": "code",
   "execution_count": 28,
   "metadata": {},
   "outputs": [],
   "source": [
    "gameWeeks = []\n",
    "for index, row in qbScores.iterrows():\n",
    "    date = datetime.strptime(row[\"date\"], '%m/%d/%Y')\n",
    "    week = dateToGameWeek(date)\n",
    "    gameWeeks.append(week)\n",
    "    \n",
    "    "
   ]
  },
  {
   "cell_type": "code",
   "execution_count": 29,
   "metadata": {},
   "outputs": [],
   "source": [
    "qbScores[\"week\"] = gameWeeks"
   ]
  },
  {
   "cell_type": "code",
   "execution_count": 33,
   "metadata": {},
   "outputs": [],
   "source": [
    "qbScores = qbScores.sort_values(\"week\")"
   ]
  },
  {
   "cell_type": "code",
   "execution_count": 34,
   "metadata": {},
   "outputs": [],
   "source": [
    "qbScores.to_csv(\"qbScores.csv\")"
   ]
  },
  {
   "cell_type": "code",
   "execution_count": 31,
   "metadata": {},
   "outputs": [
    {
     "data": {
      "text/plain": [
       "Text(0.5, 1.0, 'Game Value of Superbowl Quarterbacks Over the Season and Post-Season')"
      ]
     },
     "execution_count": 31,
     "metadata": {},
     "output_type": "execute_result"
    },
    {
     "data": {
      "image/png": "[encoded data removed]",
      "text/plain": [
       "<Figure size 720x360 with 1 Axes>"
      ]
     },
     "metadata": {
      "needs_background": "light"
     },
     "output_type": "display_data"
    }
   ],
   "source": [
    "plt.figure(figsize=(10,5))\n",
    "ax = sns.lineplot(x=\"week\", y=\"qb_game_value\", data=qbScores,hue = \"player\",style=\"player\",markers=True)\n",
    "#ax.set_xticklabels(ax.get_xticklabels(), rotation=45)\n",
    "#ax.set_xticklabels(ax.get_xticklabels())\n",
    "ax.set_title(\"ELO of Superbowl Quarterbacks Over the Season and Post-Season\")"
   ]
  },
  {
   "cell_type": "code",
   "execution_count": null,
   "metadata": {},
   "outputs": [],
   "source": [
    "sns.lmplot(x=\"week\", y=\"qb_game_value\", hue=\"player\", data=qbScores);"
   ]
  },
  {
   "cell_type": "code",
   "execution_count": null,
   "metadata": {},
   "outputs": [],
   "source": []
  }
 ],
 "metadata": {
  "kernelspec": {
   "display_name": "Python 3",
   "language": "python",
   "name": "python3"
  },
  "language_info": {
   "codemirror_mode": {
    "name": "ipython",
    "version": 3
   },
   "file_extension": ".py",
   "mimetype": "text/x-python",
   "name": "python",
   "nbconvert_exporter": "python",
   "pygments_lexer": "ipython3",
   "version": "3.7.1"
  }
 },
 "nbformat": 4,
 "nbformat_minor": 2
}
