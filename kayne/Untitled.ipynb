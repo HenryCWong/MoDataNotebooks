{
 "cells": [
  {
   "cell_type": "code",
   "execution_count": 2,
   "metadata": {},
   "outputs": [],
   "source": [
    "import pandas as pd\n",
    "import seaborn as sns"
   ]
  },
  {
   "cell_type": "code",
   "execution_count": 4,
   "metadata": {},
   "outputs": [],
   "source": [
    "df = pd.read_csv('ye.csv')"
   ]
  },
  {
   "cell_type": "code",
   "execution_count": 6,
   "metadata": {},
   "outputs": [
    {
     "data": {
      "text/html": [
       "<div>\n",
       "<style scoped>\n",
       "    .dataframe tbody tr th:only-of-type {\n",
       "        vertical-align: middle;\n",
       "    }\n",
       "\n",
       "    .dataframe tbody tr th {\n",
       "        vertical-align: top;\n",
       "    }\n",
       "\n",
       "    .dataframe thead th {\n",
       "        text-align: right;\n",
       "    }\n",
       "</style>\n",
       "<table border=\"1\" class=\"dataframe\">\n",
       "  <thead>\n",
       "    <tr style=\"text-align: right;\">\n",
       "      <th></th>\n",
       "      <th>albumTitle</th>\n",
       "      <th>releaseDate</th>\n",
       "      <th>postpone1</th>\n",
       "      <th>postpone2</th>\n",
       "      <th>postpone3</th>\n",
       "      <th>postpone4</th>\n",
       "      <th>actualRelease</th>\n",
       "      <th>recordingStart</th>\n",
       "      <th>recordingFinish</th>\n",
       "      <th>metacritic</th>\n",
       "      <th>pitchfork</th>\n",
       "      <th>firstWeekSales</th>\n",
       "      <th>totalSales</th>\n",
       "      <th>numberOfPost</th>\n",
       "    </tr>\n",
       "  </thead>\n",
       "  <tbody>\n",
       "    <tr>\n",
       "      <th>0</th>\n",
       "      <td>The College Dropout</td>\n",
       "      <td>Aug-03</td>\n",
       "      <td>1-Oct</td>\n",
       "      <td>4-Jan</td>\n",
       "      <td>NaN</td>\n",
       "      <td>NaN</td>\n",
       "      <td>2/10/2004</td>\n",
       "      <td>1999</td>\n",
       "      <td>1-Dec</td>\n",
       "      <td>87.0</td>\n",
       "      <td>8.2</td>\n",
       "      <td>441000.0</td>\n",
       "      <td>3358000.0</td>\n",
       "      <td>2.0</td>\n",
       "    </tr>\n",
       "    <tr>\n",
       "      <th>1</th>\n",
       "      <td>Late Registration</td>\n",
       "      <td>12-Jul-05</td>\n",
       "      <td>8/16/2005</td>\n",
       "      <td>8/30/2005</td>\n",
       "      <td>NaN</td>\n",
       "      <td>NaN</td>\n",
       "      <td>8/30/2005</td>\n",
       "      <td>2003</td>\n",
       "      <td>8/30/2005</td>\n",
       "      <td>85.0</td>\n",
       "      <td>9.5</td>\n",
       "      <td>860000.0</td>\n",
       "      <td>3100000.0</td>\n",
       "      <td>2.0</td>\n",
       "    </tr>\n",
       "    <tr>\n",
       "      <th>2</th>\n",
       "      <td>Graduation</td>\n",
       "      <td>10/1/2006</td>\n",
       "      <td>08/18/20017</td>\n",
       "      <td>Aug-07</td>\n",
       "      <td>9/11/2007</td>\n",
       "      <td>NaN</td>\n",
       "      <td>9/11/2007</td>\n",
       "      <td>8/1/2005</td>\n",
       "      <td>9/1/2007</td>\n",
       "      <td>79.0</td>\n",
       "      <td>8.7</td>\n",
       "      <td>957000.0</td>\n",
       "      <td>2700000.0</td>\n",
       "      <td>3.0</td>\n",
       "    </tr>\n",
       "    <tr>\n",
       "      <th>3</th>\n",
       "      <td>808s &amp; Heartbreak</td>\n",
       "      <td>11/25/2008</td>\n",
       "      <td>NaN</td>\n",
       "      <td>NaN</td>\n",
       "      <td>NaN</td>\n",
       "      <td>NaN</td>\n",
       "      <td>11/24/2008</td>\n",
       "      <td>9/1/2008</td>\n",
       "      <td>11/1/2008</td>\n",
       "      <td>75.0</td>\n",
       "      <td>7.6</td>\n",
       "      <td>450145.0</td>\n",
       "      <td>1700000.0</td>\n",
       "      <td>0.0</td>\n",
       "    </tr>\n",
       "    <tr>\n",
       "      <th>4</th>\n",
       "      <td>My Beautiful Dark Twisted Fantasy</td>\n",
       "      <td>11/22/2010</td>\n",
       "      <td>NaN</td>\n",
       "      <td>NaN</td>\n",
       "      <td>NaN</td>\n",
       "      <td>NaN</td>\n",
       "      <td>11/22/2010</td>\n",
       "      <td>2009</td>\n",
       "      <td>2010</td>\n",
       "      <td>94.0</td>\n",
       "      <td>10.0</td>\n",
       "      <td>496000.0</td>\n",
       "      <td>1300000.0</td>\n",
       "      <td>0.0</td>\n",
       "    </tr>\n",
       "    <tr>\n",
       "      <th>5</th>\n",
       "      <td>Watch The Throne</td>\n",
       "      <td>8/1/2011</td>\n",
       "      <td>8/8/2011</td>\n",
       "      <td>NaN</td>\n",
       "      <td>NaN</td>\n",
       "      <td>NaN</td>\n",
       "      <td>8/8/2011</td>\n",
       "      <td>11/1/2010</td>\n",
       "      <td>6/1/2011</td>\n",
       "      <td>76.0</td>\n",
       "      <td>8.5</td>\n",
       "      <td>436000.0</td>\n",
       "      <td>2000000.0</td>\n",
       "      <td>1.0</td>\n",
       "    </tr>\n",
       "    <tr>\n",
       "      <th>6</th>\n",
       "      <td>Yeezus</td>\n",
       "      <td>6/18/2013</td>\n",
       "      <td>NaN</td>\n",
       "      <td>NaN</td>\n",
       "      <td>NaN</td>\n",
       "      <td>NaN</td>\n",
       "      <td>6/18/2013</td>\n",
       "      <td>6/1/2012</td>\n",
       "      <td>6/1/2013</td>\n",
       "      <td>84.0</td>\n",
       "      <td>9.5</td>\n",
       "      <td>327000.0</td>\n",
       "      <td>750000.0</td>\n",
       "      <td>0.0</td>\n",
       "    </tr>\n",
       "    <tr>\n",
       "      <th>7</th>\n",
       "      <td>The Life of Pablo</td>\n",
       "      <td>2/11/2016</td>\n",
       "      <td>2/12/2016</td>\n",
       "      <td>2/14/2016</td>\n",
       "      <td>4/10/2016</td>\n",
       "      <td>NaN</td>\n",
       "      <td>4/10/2016</td>\n",
       "      <td>11/1/2013</td>\n",
       "      <td>2/1/2016</td>\n",
       "      <td>75.0</td>\n",
       "      <td>9.0</td>\n",
       "      <td>94000.0</td>\n",
       "      <td>339000.0</td>\n",
       "      <td>3.0</td>\n",
       "    </tr>\n",
       "    <tr>\n",
       "      <th>8</th>\n",
       "      <td>Ye</td>\n",
       "      <td>6/1/2018</td>\n",
       "      <td>NaN</td>\n",
       "      <td>NaN</td>\n",
       "      <td>NaN</td>\n",
       "      <td>NaN</td>\n",
       "      <td>6/1/2018</td>\n",
       "      <td>2/24/2016</td>\n",
       "      <td>5/31/2018</td>\n",
       "      <td>64.0</td>\n",
       "      <td>7.1</td>\n",
       "      <td>208000.0</td>\n",
       "      <td>611000.0</td>\n",
       "      <td>0.0</td>\n",
       "    </tr>\n",
       "    <tr>\n",
       "      <th>9</th>\n",
       "      <td>Jesus Is King</td>\n",
       "      <td>9/28/2018</td>\n",
       "      <td>11/23/2018</td>\n",
       "      <td>9/27/2019</td>\n",
       "      <td>9/28/2019</td>\n",
       "      <td>9/29/2019</td>\n",
       "      <td>NaN</td>\n",
       "      <td>NaN</td>\n",
       "      <td>NaN</td>\n",
       "      <td>NaN</td>\n",
       "      <td>NaN</td>\n",
       "      <td>NaN</td>\n",
       "      <td>NaN</td>\n",
       "      <td>NaN</td>\n",
       "    </tr>\n",
       "  </tbody>\n",
       "</table>\n",
       "</div>"
      ],
      "text/plain": [
       "                          albumTitle releaseDate    postpone1  postpone2  \\\n",
       "0                The College Dropout      Aug-03        1-Oct      4-Jan   \n",
       "1                  Late Registration   12-Jul-05    8/16/2005  8/30/2005   \n",
       "2                         Graduation   10/1/2006  08/18/20017     Aug-07   \n",
       "3                  808s & Heartbreak  11/25/2008          NaN        NaN   \n",
       "4  My Beautiful Dark Twisted Fantasy  11/22/2010          NaN        NaN   \n",
       "5                   Watch The Throne    8/1/2011     8/8/2011        NaN   \n",
       "6                             Yeezus   6/18/2013          NaN        NaN   \n",
       "7                  The Life of Pablo   2/11/2016    2/12/2016  2/14/2016   \n",
       "8                                 Ye    6/1/2018          NaN        NaN   \n",
       "9                      Jesus Is King   9/28/2018   11/23/2018  9/27/2019   \n",
       "\n",
       "   postpone3  postpone4 actualRelease recordingStart recordingFinish  \\\n",
       "0        NaN        NaN     2/10/2004           1999           1-Dec   \n",
       "1        NaN        NaN     8/30/2005           2003       8/30/2005   \n",
       "2  9/11/2007        NaN     9/11/2007       8/1/2005        9/1/2007   \n",
       "3        NaN        NaN    11/24/2008       9/1/2008       11/1/2008   \n",
       "4        NaN        NaN    11/22/2010           2009            2010   \n",
       "5        NaN        NaN      8/8/2011      11/1/2010        6/1/2011   \n",
       "6        NaN        NaN     6/18/2013       6/1/2012        6/1/2013   \n",
       "7  4/10/2016        NaN     4/10/2016      11/1/2013        2/1/2016   \n",
       "8        NaN        NaN      6/1/2018      2/24/2016       5/31/2018   \n",
       "9  9/28/2019  9/29/2019           NaN            NaN             NaN   \n",
       "\n",
       "   metacritic  pitchfork  firstWeekSales  totalSales  numberOfPost  \n",
       "0        87.0        8.2        441000.0   3358000.0           2.0  \n",
       "1        85.0        9.5        860000.0   3100000.0           2.0  \n",
       "2        79.0        8.7        957000.0   2700000.0           3.0  \n",
       "3        75.0        7.6        450145.0   1700000.0           0.0  \n",
       "4        94.0       10.0        496000.0   1300000.0           0.0  \n",
       "5        76.0        8.5        436000.0   2000000.0           1.0  \n",
       "6        84.0        9.5        327000.0    750000.0           0.0  \n",
       "7        75.0        9.0         94000.0    339000.0           3.0  \n",
       "8        64.0        7.1        208000.0    611000.0           0.0  \n",
       "9         NaN        NaN             NaN         NaN           NaN  "
      ]
     },
     "execution_count": 6,
     "metadata": {},
     "output_type": "execute_result"
    }
   ],
   "source": [
    "df"
   ]
  },
  {
   "cell_type": "code",
   "execution_count": 8,
   "metadata": {},
   "outputs": [
    {
     "name": "stderr",
     "output_type": "stream",
     "text": [
      "C:\\Users\\cywon\\newAnaconda3\\lib\\site-packages\\scipy\\stats\\stats.py:1713: FutureWarning: Using a non-tuple sequence for multidimensional indexing is deprecated; use `arr[tuple(seq)]` instead of `arr[seq]`. In the future this will be interpreted as an array index, `arr[np.array(seq)]`, which will result either in an error or a different result.\n",
      "  return np.add.reduce(sorted[indexer] * weights, axis=axis) / sumval\n"
     ]
    },
    {
     "data": {
      "text/plain": [
       "<matplotlib.axes._subplots.AxesSubplot at 0x26f77d5dbe0>"
      ]
     },
     "execution_count": 8,
     "metadata": {},
     "output_type": "execute_result"
    },
    {
     "data": {
      "image/png": "[encoded data removed]",
      "text/plain": [
       "<Figure size 432x288 with 1 Axes>"
      ]
     },
     "metadata": {
      "needs_background": "light"
     },
     "output_type": "display_data"
    }
   ],
   "source": [
    "sns.regplot(data=df,x=\"metacritic\",y=\"firstWeekSales\")"
   ]
  },
  {
   "cell_type": "code",
   "execution_count": 9,
   "metadata": {},
   "outputs": [
    {
     "data": {
      "text/plain": [
       "<matplotlib.axes._subplots.AxesSubplot at 0x26f780f7eb8>"
      ]
     },
     "execution_count": 9,
     "metadata": {},
     "output_type": "execute_result"
    },
    {
     "data": {
      "image/png": "[encoded data removed]",
      "text/plain": [
       "<Figure size 432x288 with 1 Axes>"
      ]
     },
     "metadata": {
      "needs_background": "light"
     },
     "output_type": "display_data"
    }
   ],
   "source": [
    "sns.regplot(data=df,x=\"numberOfPost\",y=\"firstWeekSales\")"
   ]
  },
  {
   "cell_type": "code",
   "execution_count": 10,
   "metadata": {},
   "outputs": [
    {
     "data": {
      "text/plain": [
       "<matplotlib.axes._subplots.AxesSubplot at 0x26f7814f940>"
      ]
     },
     "execution_count": 10,
     "metadata": {},
     "output_type": "execute_result"
    },
    {
     "data": {
      "image/png": "[encoded data removed]",
      "text/plain": [
       "<Figure size 432x288 with 1 Axes>"
      ]
     },
     "metadata": {
      "needs_background": "light"
     },
     "output_type": "display_data"
    }
   ],
   "source": [
    "sns.regplot(data=df,x=\"numberOfPost\",y=\"totalSales\")"
   ]
  },
  {
   "cell_type": "code",
   "execution_count": null,
   "metadata": {},
   "outputs": [],
   "source": []
  }
 ],
 "metadata": {
  "kernelspec": {
   "display_name": "Python 3",
   "language": "python",
   "name": "python3"
  },
  "language_info": {
   "codemirror_mode": {
    "name": "ipython",
    "version": 3
   },
   "file_extension": ".py",
   "mimetype": "text/x-python",
   "name": "python",
   "nbconvert_exporter": "python",
   "pygments_lexer": "ipython3",
   "version": "3.7.1"
  }
 },
 "nbformat": 4,
 "nbformat_minor": 2
}
